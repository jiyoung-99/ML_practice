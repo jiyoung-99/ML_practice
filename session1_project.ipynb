{
  "nbformat": 4,
  "nbformat_minor": 0,
  "metadata": {
    "colab": {
      "name": "session1_project.ipynb",
      "provenance": [],
      "collapsed_sections": [],
      "authorship_tag": "ABX9TyPOF0YjkpCCJSVhhnYVVeGU",
      "include_colab_link": true
    },
    "kernelspec": {
      "name": "python3",
      "display_name": "Python 3"
    }
  },
  "cells": [
    {
      "cell_type": "markdown",
      "metadata": {
        "id": "view-in-github",
        "colab_type": "text"
      },
      "source": [
        "<a href=\"https://colab.research.google.com/github/jiyoung-99/ML_practice/blob/main/session1_project.ipynb\" target=\"_parent\"><img src=\"https://colab.research.google.com/assets/colab-badge.svg\" alt=\"Open In Colab\"/></a>"
      ]
    },
    {
      "cell_type": "code",
      "metadata": {
        "id": "SLMhg5N9ygIG"
      },
      "source": [
        "import pandas as pd\n",
        "import numpy as np\n",
        "import seaborn as sns\n",
        "import matplotlib.pyplot as plt\n",
        "from sklearn.preprocessing import StandardScaler\n",
        "from sklearn.preprocessing import LabelEncoder"
      ],
      "execution_count": 1,
      "outputs": []
    },
    {
      "cell_type": "code",
      "metadata": {
        "id": "Z4twH2f6yRIF"
      },
      "source": [
        "# 지역에 따라서 선호하는 게임 장르가 다를까?\n",
        "# 연도별 게임의 트렌드가 있을까?\n",
        "# 매출이 높은 게임에 대한 분석 및 시각화 프로세스"
      ],
      "execution_count": null,
      "outputs": []
    },
    {
      "cell_type": "code",
      "metadata": {
        "colab": {
          "base_uri": "https://localhost:8080/",
          "height": 419
        },
        "id": "2VS9ToCAymY1",
        "outputId": "5f0d7901-bcb7-46d9-d574-41ba1295c9ce"
      },
      "source": [
        "url = 'https://raw.githubusercontent.com/jiyoung-99/ML_practice/main/vgames2.csv'\n",
        "df = pd.read_csv(url)\n",
        "df"
      ],
      "execution_count": 2,
      "outputs": [
        {
          "output_type": "execute_result",
          "data": {
            "text/html": [
              "<div>\n",
              "<style scoped>\n",
              "    .dataframe tbody tr th:only-of-type {\n",
              "        vertical-align: middle;\n",
              "    }\n",
              "\n",
              "    .dataframe tbody tr th {\n",
              "        vertical-align: top;\n",
              "    }\n",
              "\n",
              "    .dataframe thead th {\n",
              "        text-align: right;\n",
              "    }\n",
              "</style>\n",
              "<table border=\"1\" class=\"dataframe\">\n",
              "  <thead>\n",
              "    <tr style=\"text-align: right;\">\n",
              "      <th></th>\n",
              "      <th>Unnamed: 0</th>\n",
              "      <th>Name</th>\n",
              "      <th>Platform</th>\n",
              "      <th>Year</th>\n",
              "      <th>Genre</th>\n",
              "      <th>Publisher</th>\n",
              "      <th>NA_Sales</th>\n",
              "      <th>EU_Sales</th>\n",
              "      <th>JP_Sales</th>\n",
              "      <th>Other_Sales</th>\n",
              "    </tr>\n",
              "  </thead>\n",
              "  <tbody>\n",
              "    <tr>\n",
              "      <th>0</th>\n",
              "      <td>1</td>\n",
              "      <td>Candace Kane's Candy Factory</td>\n",
              "      <td>DS</td>\n",
              "      <td>2008.0</td>\n",
              "      <td>Action</td>\n",
              "      <td>Destineer</td>\n",
              "      <td>0.04</td>\n",
              "      <td>0</td>\n",
              "      <td>0</td>\n",
              "      <td>0</td>\n",
              "    </tr>\n",
              "    <tr>\n",
              "      <th>1</th>\n",
              "      <td>2</td>\n",
              "      <td>The Munchables</td>\n",
              "      <td>Wii</td>\n",
              "      <td>2009.0</td>\n",
              "      <td>Action</td>\n",
              "      <td>Namco Bandai Games</td>\n",
              "      <td>0.17</td>\n",
              "      <td>0</td>\n",
              "      <td>0</td>\n",
              "      <td>0.01</td>\n",
              "    </tr>\n",
              "    <tr>\n",
              "      <th>2</th>\n",
              "      <td>3</td>\n",
              "      <td>Otome wa Oanesama Boku ni Koi Shiteru Portable</td>\n",
              "      <td>PSP</td>\n",
              "      <td>2010.0</td>\n",
              "      <td>Adventure</td>\n",
              "      <td>Alchemist</td>\n",
              "      <td>0</td>\n",
              "      <td>0</td>\n",
              "      <td>0.02</td>\n",
              "      <td>0</td>\n",
              "    </tr>\n",
              "    <tr>\n",
              "      <th>3</th>\n",
              "      <td>4</td>\n",
              "      <td>Deal or No Deal: Special Edition</td>\n",
              "      <td>DS</td>\n",
              "      <td>2010.0</td>\n",
              "      <td>Misc</td>\n",
              "      <td>Zoo Games</td>\n",
              "      <td>0.04</td>\n",
              "      <td>0</td>\n",
              "      <td>0</td>\n",
              "      <td>0</td>\n",
              "    </tr>\n",
              "    <tr>\n",
              "      <th>4</th>\n",
              "      <td>5</td>\n",
              "      <td>Ben 10 Ultimate Alien: Cosmic Destruction</td>\n",
              "      <td>PS3</td>\n",
              "      <td>2010.0</td>\n",
              "      <td>Platform</td>\n",
              "      <td>D3Publisher</td>\n",
              "      <td>0.12</td>\n",
              "      <td>0.09</td>\n",
              "      <td>0</td>\n",
              "      <td>0.04</td>\n",
              "    </tr>\n",
              "    <tr>\n",
              "      <th>...</th>\n",
              "      <td>...</td>\n",
              "      <td>...</td>\n",
              "      <td>...</td>\n",
              "      <td>...</td>\n",
              "      <td>...</td>\n",
              "      <td>...</td>\n",
              "      <td>...</td>\n",
              "      <td>...</td>\n",
              "      <td>...</td>\n",
              "      <td>...</td>\n",
              "    </tr>\n",
              "    <tr>\n",
              "      <th>16593</th>\n",
              "      <td>16594</td>\n",
              "      <td>Ice Age 2: The Meltdown</td>\n",
              "      <td>GC</td>\n",
              "      <td>2006.0</td>\n",
              "      <td>Platform</td>\n",
              "      <td>Vivendi Games</td>\n",
              "      <td>0.15</td>\n",
              "      <td>0.04</td>\n",
              "      <td>0</td>\n",
              "      <td>0.01</td>\n",
              "    </tr>\n",
              "    <tr>\n",
              "      <th>16594</th>\n",
              "      <td>16595</td>\n",
              "      <td>Rainbow Islands: Revolution</td>\n",
              "      <td>PSP</td>\n",
              "      <td>2005.0</td>\n",
              "      <td>Action</td>\n",
              "      <td>Rising Star Games</td>\n",
              "      <td>0.01</td>\n",
              "      <td>0</td>\n",
              "      <td>0</td>\n",
              "      <td>0</td>\n",
              "    </tr>\n",
              "    <tr>\n",
              "      <th>16595</th>\n",
              "      <td>16596</td>\n",
              "      <td>NBA 2K16</td>\n",
              "      <td>PS3</td>\n",
              "      <td>2015.0</td>\n",
              "      <td>Sports</td>\n",
              "      <td>Take-Two Interactive</td>\n",
              "      <td>0.44</td>\n",
              "      <td>0.19</td>\n",
              "      <td>0.03</td>\n",
              "      <td>0.13</td>\n",
              "    </tr>\n",
              "    <tr>\n",
              "      <th>16596</th>\n",
              "      <td>16597</td>\n",
              "      <td>Toukiden: The Age of Demons</td>\n",
              "      <td>PSV</td>\n",
              "      <td>2013.0</td>\n",
              "      <td>Action</td>\n",
              "      <td>Tecmo Koei</td>\n",
              "      <td>0.05</td>\n",
              "      <td>0.05</td>\n",
              "      <td>0.25</td>\n",
              "      <td>0.03</td>\n",
              "    </tr>\n",
              "    <tr>\n",
              "      <th>16597</th>\n",
              "      <td>16598</td>\n",
              "      <td>The King of Fighters '95</td>\n",
              "      <td>PS</td>\n",
              "      <td>1996.0</td>\n",
              "      <td>Fighting</td>\n",
              "      <td>Sony Computer Entertainment</td>\n",
              "      <td>0</td>\n",
              "      <td>0</td>\n",
              "      <td>0.16</td>\n",
              "      <td>0.01</td>\n",
              "    </tr>\n",
              "  </tbody>\n",
              "</table>\n",
              "<p>16598 rows × 10 columns</p>\n",
              "</div>"
            ],
            "text/plain": [
              "       Unnamed: 0  ... Other_Sales\n",
              "0               1  ...           0\n",
              "1               2  ...        0.01\n",
              "2               3  ...           0\n",
              "3               4  ...           0\n",
              "4               5  ...        0.04\n",
              "...           ...  ...         ...\n",
              "16593       16594  ...        0.01\n",
              "16594       16595  ...           0\n",
              "16595       16596  ...        0.13\n",
              "16596       16597  ...        0.03\n",
              "16597       16598  ...        0.01\n",
              "\n",
              "[16598 rows x 10 columns]"
            ]
          },
          "metadata": {
            "tags": []
          },
          "execution_count": 2
        }
      ]
    },
    {
      "cell_type": "code",
      "metadata": {
        "id": "D2A-66GAKvHl"
      },
      "source": [
        "# null 값 없애기\n",
        "def isFillna(df):\n",
        "\n",
        "    df['Year'].fillna(round(df['Year'].mean(),0))\n",
        "    df['Genre'].fillna('N')\n",
        "    df['Publisher'].fillna('N')\n",
        "\n",
        "    return df\n",
        "# 년도 2자리 수 바꾸는 함수\n",
        "def change_year(year):\n",
        "    \n",
        "    if year >= 0 and year <= 20:\n",
        "        year += 2000\n",
        "        return year\n",
        "    elif year <= 99:\n",
        "        year += 1900\n",
        "        return year\n",
        "    else:\n",
        "        return year\n",
        "\n",
        "# 2자리 바꾸는 함수 실행 함수\n",
        "def do_change_year(df):\n",
        "    df['Year'] = df['Year'].apply(change_year)\n",
        "    return df\n",
        "\n",
        "# thousand -> million and delete k, m\n",
        "def change_km(x):\n",
        "    if 'K' in x:\n",
        "        return float(x.replace('K', '')) * 0.001\n",
        "    \n",
        "    elif 'M' in x:\n",
        "        return float(x.replace('M', ''))\n",
        "\n",
        "    else:\n",
        "        return float(x)\n",
        "\n",
        "def do_change_km(df):\n",
        "    df['NA_Sales'] = df['NA_Sales'].apply(change_km)\n",
        "    df['EU_Sales'] = df['EU_Sales'].apply(change_km)\n",
        "    df['JP_Sales'] = df['JP_Sales'].apply(change_km)\n",
        "    df['Other_Sales'] = df['Other_Sales'].apply(change_km)\n",
        "\n",
        "    return df\n",
        "\n",
        "\n",
        "# 데이터 전처리 함수 실행\n",
        "def transform_features(df):\n",
        "    df = isFillna(df)\n",
        "    df = do_change_year(df)\n",
        "    df = do_change_km(df)\n",
        "    \n",
        "    return df\n"
      ],
      "execution_count": 3,
      "outputs": []
    },
    {
      "cell_type": "code",
      "metadata": {
        "id": "x_5kfDX7NRsp"
      },
      "source": [
        "# 전처리 함수\n",
        "df = transform_features(df)"
      ],
      "execution_count": 4,
      "outputs": []
    },
    {
      "cell_type": "code",
      "metadata": {
        "id": "mPG5qGpJ3rdD"
      },
      "source": [
        "# 지역에 따라서 선호하는 게임 장르가 다를까?\n"
      ],
      "execution_count": null,
      "outputs": []
    },
    {
      "cell_type": "code",
      "metadata": {
        "colab": {
          "base_uri": "https://localhost:8080/",
          "height": 421
        },
        "id": "SWinb546nL8G",
        "outputId": "d02bd5ee-bfc3-49ef-b900-c932bdb594c5"
      },
      "source": [
        "#필요한 컬럼만 골라서 데이터프레임 만들어준다.\n",
        "df_g = df[['Genre',\t'NA_Sales', 'EU_Sales', 'JP_Sales', 'Other_Sales']]\n",
        "df_groupby_genre = df_g.groupby('Genre').sum()\n",
        "df_groupby_genre = df_groupby_genre.reset_index()\n",
        "df_groupby_genre"
      ],
      "execution_count": 5,
      "outputs": [
        {
          "output_type": "execute_result",
          "data": {
            "text/html": [
              "<div>\n",
              "<style scoped>\n",
              "    .dataframe tbody tr th:only-of-type {\n",
              "        vertical-align: middle;\n",
              "    }\n",
              "\n",
              "    .dataframe tbody tr th {\n",
              "        vertical-align: top;\n",
              "    }\n",
              "\n",
              "    .dataframe thead th {\n",
              "        text-align: right;\n",
              "    }\n",
              "</style>\n",
              "<table border=\"1\" class=\"dataframe\">\n",
              "  <thead>\n",
              "    <tr style=\"text-align: right;\">\n",
              "      <th></th>\n",
              "      <th>Genre</th>\n",
              "      <th>NA_Sales</th>\n",
              "      <th>EU_Sales</th>\n",
              "      <th>JP_Sales</th>\n",
              "      <th>Other_Sales</th>\n",
              "    </tr>\n",
              "  </thead>\n",
              "  <tbody>\n",
              "    <tr>\n",
              "      <th>0</th>\n",
              "      <td>Action</td>\n",
              "      <td>874.81</td>\n",
              "      <td>522.16</td>\n",
              "      <td>157.90</td>\n",
              "      <td>186.45</td>\n",
              "    </tr>\n",
              "    <tr>\n",
              "      <th>1</th>\n",
              "      <td>Adventure</td>\n",
              "      <td>105.66</td>\n",
              "      <td>64.05</td>\n",
              "      <td>51.95</td>\n",
              "      <td>16.81</td>\n",
              "    </tr>\n",
              "    <tr>\n",
              "      <th>2</th>\n",
              "      <td>Fighting</td>\n",
              "      <td>223.20</td>\n",
              "      <td>101.22</td>\n",
              "      <td>87.34</td>\n",
              "      <td>36.64</td>\n",
              "    </tr>\n",
              "    <tr>\n",
              "      <th>3</th>\n",
              "      <td>Misc</td>\n",
              "      <td>408.05</td>\n",
              "      <td>212.36</td>\n",
              "      <td>105.27</td>\n",
              "      <td>74.04</td>\n",
              "    </tr>\n",
              "    <tr>\n",
              "      <th>4</th>\n",
              "      <td>Platform</td>\n",
              "      <td>446.44</td>\n",
              "      <td>201.61</td>\n",
              "      <td>130.65</td>\n",
              "      <td>51.53</td>\n",
              "    </tr>\n",
              "    <tr>\n",
              "      <th>5</th>\n",
              "      <td>Puzzle</td>\n",
              "      <td>123.35</td>\n",
              "      <td>50.73</td>\n",
              "      <td>56.87</td>\n",
              "      <td>12.52</td>\n",
              "    </tr>\n",
              "    <tr>\n",
              "      <th>6</th>\n",
              "      <td>Racing</td>\n",
              "      <td>357.19</td>\n",
              "      <td>237.10</td>\n",
              "      <td>56.40</td>\n",
              "      <td>77.10</td>\n",
              "    </tr>\n",
              "    <tr>\n",
              "      <th>7</th>\n",
              "      <td>Role-Playing</td>\n",
              "      <td>319.54</td>\n",
              "      <td>183.58</td>\n",
              "      <td>344.95</td>\n",
              "      <td>56.96</td>\n",
              "    </tr>\n",
              "    <tr>\n",
              "      <th>8</th>\n",
              "      <td>Shooter</td>\n",
              "      <td>581.92</td>\n",
              "      <td>313.05</td>\n",
              "      <td>38.28</td>\n",
              "      <td>102.65</td>\n",
              "    </tr>\n",
              "    <tr>\n",
              "      <th>9</th>\n",
              "      <td>Simulation</td>\n",
              "      <td>182.96</td>\n",
              "      <td>113.35</td>\n",
              "      <td>63.70</td>\n",
              "      <td>31.48</td>\n",
              "    </tr>\n",
              "    <tr>\n",
              "      <th>10</th>\n",
              "      <td>Sports</td>\n",
              "      <td>680.52</td>\n",
              "      <td>376.48</td>\n",
              "      <td>135.37</td>\n",
              "      <td>134.67</td>\n",
              "    </tr>\n",
              "    <tr>\n",
              "      <th>11</th>\n",
              "      <td>Strategy</td>\n",
              "      <td>68.70</td>\n",
              "      <td>45.32</td>\n",
              "      <td>49.46</td>\n",
              "      <td>11.36</td>\n",
              "    </tr>\n",
              "  </tbody>\n",
              "</table>\n",
              "</div>"
            ],
            "text/plain": [
              "           Genre  NA_Sales  EU_Sales  JP_Sales  Other_Sales\n",
              "0         Action    874.81    522.16    157.90       186.45\n",
              "1      Adventure    105.66     64.05     51.95        16.81\n",
              "2       Fighting    223.20    101.22     87.34        36.64\n",
              "3           Misc    408.05    212.36    105.27        74.04\n",
              "4       Platform    446.44    201.61    130.65        51.53\n",
              "5         Puzzle    123.35     50.73     56.87        12.52\n",
              "6         Racing    357.19    237.10     56.40        77.10\n",
              "7   Role-Playing    319.54    183.58    344.95        56.96\n",
              "8        Shooter    581.92    313.05     38.28       102.65\n",
              "9     Simulation    182.96    113.35     63.70        31.48\n",
              "10        Sports    680.52    376.48    135.37       134.67\n",
              "11      Strategy     68.70     45.32     49.46        11.36"
            ]
          },
          "metadata": {
            "tags": []
          },
          "execution_count": 5
        }
      ]
    },
    {
      "cell_type": "code",
      "metadata": {
        "id": "z4lqWor4QfYm"
      },
      "source": [
        "df_setindex_group = df_groupby_genre.set_index('Genre')"
      ],
      "execution_count": 15,
      "outputs": []
    },
    {
      "cell_type": "code",
      "metadata": {
        "colab": {
          "base_uri": "https://localhost:8080/",
          "height": 392
        },
        "id": "87L5sLH1QdR-",
        "outputId": "7eea5d1c-eb12-4f0c-e6e2-1ea02dc16b0d"
      },
      "source": [
        "f, ax = plt.subplots(figsize=(9, 6))\n",
        "sns.heatmap(df_setindex_group, ax=ax)"
      ],
      "execution_count": 16,
      "outputs": [
        {
          "output_type": "execute_result",
          "data": {
            "text/plain": [
              "<matplotlib.axes._subplots.AxesSubplot at 0x7f26cb5e8c18>"
            ]
          },
          "metadata": {
            "tags": []
          },
          "execution_count": 16
        },
        {
          "output_type": "display_data",
          "data": {
            "image/png": "[encoded data removed]",
            "text/plain": [
              "<Figure size 648x432 with 2 Axes>"
            ]
          },
          "metadata": {
            "tags": [],
            "needs_background": "light"
          }
        }
      ]
    },
    {
      "cell_type": "markdown",
      "metadata": {
        "id": "qacu7oLiQkxv"
      },
      "source": [
        "북미 지역은 액션과 스포츠, shooter 순으로 많고\n",
        "\n",
        "유럽 지역도 액션과 스포츠, shotter 순으로 많다.\n",
        "\n",
        "하지만 일본 지역은 특이하게 롤플레잉이 많다.\n",
        "\n",
        "매출은 북미가 더 많다."
      ]
    },
    {
      "cell_type": "code",
      "metadata": {
        "colab": {
          "base_uri": "https://localhost:8080/",
          "height": 1000
        },
        "id": "55UQMLT5t_PE",
        "outputId": "c46e26eb-78a3-4778-8537-1aa0edf2f094"
      },
      "source": [
        "# melt 써서 데이터 바꿔줌\n",
        "pd.melt(df_groupby_genre, id_vars=['NA_Sales', 'EU_Sales', 'JP_Sales', 'Other_Sales'])\n",
        "df_melt = df_groupby_genre.melt('Genre', var_name='area', value_name='sales')\n",
        "df_melt"
      ],
      "execution_count": 11,
      "outputs": [
        {
          "output_type": "execute_result",
          "data": {
            "text/html": [
              "<div>\n",
              "<style scoped>\n",
              "    .dataframe tbody tr th:only-of-type {\n",
              "        vertical-align: middle;\n",
              "    }\n",
              "\n",
              "    .dataframe tbody tr th {\n",
              "        vertical-align: top;\n",
              "    }\n",
              "\n",
              "    .dataframe thead th {\n",
              "        text-align: right;\n",
              "    }\n",
              "</style>\n",
              "<table border=\"1\" class=\"dataframe\">\n",
              "  <thead>\n",
              "    <tr style=\"text-align: right;\">\n",
              "      <th></th>\n",
              "      <th>Genre</th>\n",
              "      <th>area</th>\n",
              "      <th>sales</th>\n",
              "    </tr>\n",
              "  </thead>\n",
              "  <tbody>\n",
              "    <tr>\n",
              "      <th>0</th>\n",
              "      <td>Action</td>\n",
              "      <td>NA_Sales</td>\n",
              "      <td>874.81</td>\n",
              "    </tr>\n",
              "    <tr>\n",
              "      <th>1</th>\n",
              "      <td>Adventure</td>\n",
              "      <td>NA_Sales</td>\n",
              "      <td>105.66</td>\n",
              "    </tr>\n",
              "    <tr>\n",
              "      <th>2</th>\n",
              "      <td>Fighting</td>\n",
              "      <td>NA_Sales</td>\n",
              "      <td>223.20</td>\n",
              "    </tr>\n",
              "    <tr>\n",
              "      <th>3</th>\n",
              "      <td>Misc</td>\n",
              "      <td>NA_Sales</td>\n",
              "      <td>408.05</td>\n",
              "    </tr>\n",
              "    <tr>\n",
              "      <th>4</th>\n",
              "      <td>Platform</td>\n",
              "      <td>NA_Sales</td>\n",
              "      <td>446.44</td>\n",
              "    </tr>\n",
              "    <tr>\n",
              "      <th>5</th>\n",
              "      <td>Puzzle</td>\n",
              "      <td>NA_Sales</td>\n",
              "      <td>123.35</td>\n",
              "    </tr>\n",
              "    <tr>\n",
              "      <th>6</th>\n",
              "      <td>Racing</td>\n",
              "      <td>NA_Sales</td>\n",
              "      <td>357.19</td>\n",
              "    </tr>\n",
              "    <tr>\n",
              "      <th>7</th>\n",
              "      <td>Role-Playing</td>\n",
              "      <td>NA_Sales</td>\n",
              "      <td>319.54</td>\n",
              "    </tr>\n",
              "    <tr>\n",
              "      <th>8</th>\n",
              "      <td>Shooter</td>\n",
              "      <td>NA_Sales</td>\n",
              "      <td>581.92</td>\n",
              "    </tr>\n",
              "    <tr>\n",
              "      <th>9</th>\n",
              "      <td>Simulation</td>\n",
              "      <td>NA_Sales</td>\n",
              "      <td>182.96</td>\n",
              "    </tr>\n",
              "    <tr>\n",
              "      <th>10</th>\n",
              "      <td>Sports</td>\n",
              "      <td>NA_Sales</td>\n",
              "      <td>680.52</td>\n",
              "    </tr>\n",
              "    <tr>\n",
              "      <th>11</th>\n",
              "      <td>Strategy</td>\n",
              "      <td>NA_Sales</td>\n",
              "      <td>68.70</td>\n",
              "    </tr>\n",
              "    <tr>\n",
              "      <th>12</th>\n",
              "      <td>Action</td>\n",
              "      <td>EU_Sales</td>\n",
              "      <td>522.16</td>\n",
              "    </tr>\n",
              "    <tr>\n",
              "      <th>13</th>\n",
              "      <td>Adventure</td>\n",
              "      <td>EU_Sales</td>\n",
              "      <td>64.05</td>\n",
              "    </tr>\n",
              "    <tr>\n",
              "      <th>14</th>\n",
              "      <td>Fighting</td>\n",
              "      <td>EU_Sales</td>\n",
              "      <td>101.22</td>\n",
              "    </tr>\n",
              "    <tr>\n",
              "      <th>15</th>\n",
              "      <td>Misc</td>\n",
              "      <td>EU_Sales</td>\n",
              "      <td>212.36</td>\n",
              "    </tr>\n",
              "    <tr>\n",
              "      <th>16</th>\n",
              "      <td>Platform</td>\n",
              "      <td>EU_Sales</td>\n",
              "      <td>201.61</td>\n",
              "    </tr>\n",
              "    <tr>\n",
              "      <th>17</th>\n",
              "      <td>Puzzle</td>\n",
              "      <td>EU_Sales</td>\n",
              "      <td>50.73</td>\n",
              "    </tr>\n",
              "    <tr>\n",
              "      <th>18</th>\n",
              "      <td>Racing</td>\n",
              "      <td>EU_Sales</td>\n",
              "      <td>237.10</td>\n",
              "    </tr>\n",
              "    <tr>\n",
              "      <th>19</th>\n",
              "      <td>Role-Playing</td>\n",
              "      <td>EU_Sales</td>\n",
              "      <td>183.58</td>\n",
              "    </tr>\n",
              "    <tr>\n",
              "      <th>20</th>\n",
              "      <td>Shooter</td>\n",
              "      <td>EU_Sales</td>\n",
              "      <td>313.05</td>\n",
              "    </tr>\n",
              "    <tr>\n",
              "      <th>21</th>\n",
              "      <td>Simulation</td>\n",
              "      <td>EU_Sales</td>\n",
              "      <td>113.35</td>\n",
              "    </tr>\n",
              "    <tr>\n",
              "      <th>22</th>\n",
              "      <td>Sports</td>\n",
              "      <td>EU_Sales</td>\n",
              "      <td>376.48</td>\n",
              "    </tr>\n",
              "    <tr>\n",
              "      <th>23</th>\n",
              "      <td>Strategy</td>\n",
              "      <td>EU_Sales</td>\n",
              "      <td>45.32</td>\n",
              "    </tr>\n",
              "    <tr>\n",
              "      <th>24</th>\n",
              "      <td>Action</td>\n",
              "      <td>JP_Sales</td>\n",
              "      <td>157.90</td>\n",
              "    </tr>\n",
              "    <tr>\n",
              "      <th>25</th>\n",
              "      <td>Adventure</td>\n",
              "      <td>JP_Sales</td>\n",
              "      <td>51.95</td>\n",
              "    </tr>\n",
              "    <tr>\n",
              "      <th>26</th>\n",
              "      <td>Fighting</td>\n",
              "      <td>JP_Sales</td>\n",
              "      <td>87.34</td>\n",
              "    </tr>\n",
              "    <tr>\n",
              "      <th>27</th>\n",
              "      <td>Misc</td>\n",
              "      <td>JP_Sales</td>\n",
              "      <td>105.27</td>\n",
              "    </tr>\n",
              "    <tr>\n",
              "      <th>28</th>\n",
              "      <td>Platform</td>\n",
              "      <td>JP_Sales</td>\n",
              "      <td>130.65</td>\n",
              "    </tr>\n",
              "    <tr>\n",
              "      <th>29</th>\n",
              "      <td>Puzzle</td>\n",
              "      <td>JP_Sales</td>\n",
              "      <td>56.87</td>\n",
              "    </tr>\n",
              "    <tr>\n",
              "      <th>30</th>\n",
              "      <td>Racing</td>\n",
              "      <td>JP_Sales</td>\n",
              "      <td>56.40</td>\n",
              "    </tr>\n",
              "    <tr>\n",
              "      <th>31</th>\n",
              "      <td>Role-Playing</td>\n",
              "      <td>JP_Sales</td>\n",
              "      <td>344.95</td>\n",
              "    </tr>\n",
              "    <tr>\n",
              "      <th>32</th>\n",
              "      <td>Shooter</td>\n",
              "      <td>JP_Sales</td>\n",
              "      <td>38.28</td>\n",
              "    </tr>\n",
              "    <tr>\n",
              "      <th>33</th>\n",
              "      <td>Simulation</td>\n",
              "      <td>JP_Sales</td>\n",
              "      <td>63.70</td>\n",
              "    </tr>\n",
              "    <tr>\n",
              "      <th>34</th>\n",
              "      <td>Sports</td>\n",
              "      <td>JP_Sales</td>\n",
              "      <td>135.37</td>\n",
              "    </tr>\n",
              "    <tr>\n",
              "      <th>35</th>\n",
              "      <td>Strategy</td>\n",
              "      <td>JP_Sales</td>\n",
              "      <td>49.46</td>\n",
              "    </tr>\n",
              "    <tr>\n",
              "      <th>36</th>\n",
              "      <td>Action</td>\n",
              "      <td>Other_Sales</td>\n",
              "      <td>186.45</td>\n",
              "    </tr>\n",
              "    <tr>\n",
              "      <th>37</th>\n",
              "      <td>Adventure</td>\n",
              "      <td>Other_Sales</td>\n",
              "      <td>16.81</td>\n",
              "    </tr>\n",
              "    <tr>\n",
              "      <th>38</th>\n",
              "      <td>Fighting</td>\n",
              "      <td>Other_Sales</td>\n",
              "      <td>36.64</td>\n",
              "    </tr>\n",
              "    <tr>\n",
              "      <th>39</th>\n",
              "      <td>Misc</td>\n",
              "      <td>Other_Sales</td>\n",
              "      <td>74.04</td>\n",
              "    </tr>\n",
              "    <tr>\n",
              "      <th>40</th>\n",
              "      <td>Platform</td>\n",
              "      <td>Other_Sales</td>\n",
              "      <td>51.53</td>\n",
              "    </tr>\n",
              "    <tr>\n",
              "      <th>41</th>\n",
              "      <td>Puzzle</td>\n",
              "      <td>Other_Sales</td>\n",
              "      <td>12.52</td>\n",
              "    </tr>\n",
              "    <tr>\n",
              "      <th>42</th>\n",
              "      <td>Racing</td>\n",
              "      <td>Other_Sales</td>\n",
              "      <td>77.10</td>\n",
              "    </tr>\n",
              "    <tr>\n",
              "      <th>43</th>\n",
              "      <td>Role-Playing</td>\n",
              "      <td>Other_Sales</td>\n",
              "      <td>56.96</td>\n",
              "    </tr>\n",
              "    <tr>\n",
              "      <th>44</th>\n",
              "      <td>Shooter</td>\n",
              "      <td>Other_Sales</td>\n",
              "      <td>102.65</td>\n",
              "    </tr>\n",
              "    <tr>\n",
              "      <th>45</th>\n",
              "      <td>Simulation</td>\n",
              "      <td>Other_Sales</td>\n",
              "      <td>31.48</td>\n",
              "    </tr>\n",
              "    <tr>\n",
              "      <th>46</th>\n",
              "      <td>Sports</td>\n",
              "      <td>Other_Sales</td>\n",
              "      <td>134.67</td>\n",
              "    </tr>\n",
              "    <tr>\n",
              "      <th>47</th>\n",
              "      <td>Strategy</td>\n",
              "      <td>Other_Sales</td>\n",
              "      <td>11.36</td>\n",
              "    </tr>\n",
              "  </tbody>\n",
              "</table>\n",
              "</div>"
            ],
            "text/plain": [
              "           Genre         area   sales\n",
              "0         Action     NA_Sales  874.81\n",
              "1      Adventure     NA_Sales  105.66\n",
              "2       Fighting     NA_Sales  223.20\n",
              "3           Misc     NA_Sales  408.05\n",
              "4       Platform     NA_Sales  446.44\n",
              "5         Puzzle     NA_Sales  123.35\n",
              "6         Racing     NA_Sales  357.19\n",
              "7   Role-Playing     NA_Sales  319.54\n",
              "8        Shooter     NA_Sales  581.92\n",
              "9     Simulation     NA_Sales  182.96\n",
              "10        Sports     NA_Sales  680.52\n",
              "11      Strategy     NA_Sales   68.70\n",
              "12        Action     EU_Sales  522.16\n",
              "13     Adventure     EU_Sales   64.05\n",
              "14      Fighting     EU_Sales  101.22\n",
              "15          Misc     EU_Sales  212.36\n",
              "16      Platform     EU_Sales  201.61\n",
              "17        Puzzle     EU_Sales   50.73\n",
              "18        Racing     EU_Sales  237.10\n",
              "19  Role-Playing     EU_Sales  183.58\n",
              "20       Shooter     EU_Sales  313.05\n",
              "21    Simulation     EU_Sales  113.35\n",
              "22        Sports     EU_Sales  376.48\n",
              "23      Strategy     EU_Sales   45.32\n",
              "24        Action     JP_Sales  157.90\n",
              "25     Adventure     JP_Sales   51.95\n",
              "26      Fighting     JP_Sales   87.34\n",
              "27          Misc     JP_Sales  105.27\n",
              "28      Platform     JP_Sales  130.65\n",
              "29        Puzzle     JP_Sales   56.87\n",
              "30        Racing     JP_Sales   56.40\n",
              "31  Role-Playing     JP_Sales  344.95\n",
              "32       Shooter     JP_Sales   38.28\n",
              "33    Simulation     JP_Sales   63.70\n",
              "34        Sports     JP_Sales  135.37\n",
              "35      Strategy     JP_Sales   49.46\n",
              "36        Action  Other_Sales  186.45\n",
              "37     Adventure  Other_Sales   16.81\n",
              "38      Fighting  Other_Sales   36.64\n",
              "39          Misc  Other_Sales   74.04\n",
              "40      Platform  Other_Sales   51.53\n",
              "41        Puzzle  Other_Sales   12.52\n",
              "42        Racing  Other_Sales   77.10\n",
              "43  Role-Playing  Other_Sales   56.96\n",
              "44       Shooter  Other_Sales  102.65\n",
              "45    Simulation  Other_Sales   31.48\n",
              "46        Sports  Other_Sales  134.67\n",
              "47      Strategy  Other_Sales   11.36"
            ]
          },
          "metadata": {
            "tags": []
          },
          "execution_count": 11
        }
      ]
    },
    {
      "cell_type": "code",
      "metadata": {
        "colab": {
          "base_uri": "https://localhost:8080/",
          "height": 519
        },
        "id": "tRrR00g-qQbL",
        "outputId": "7ca42269-21a2-49fe-89b6-9ca98b397a3c"
      },
      "source": [
        "fig, ax = plt.subplots()\n",
        "fig.set_size_inches(11, 8)\n",
        "sns.set_theme(style=\"whitegrid\")\n",
        "sns.barplot(x='Genre', y='sales', hue='area', data=df_melt)"
      ],
      "execution_count": null,
      "outputs": [
        {
          "output_type": "execute_result",
          "data": {
            "text/plain": [
              "<matplotlib.axes._subplots.AxesSubplot at 0x7f5f334092e8>"
            ]
          },
          "metadata": {
            "tags": []
          },
          "execution_count": 42
        },
        {
          "output_type": "display_data",
          "data": {
            "image/png": "[encoded data removed]",
            "text/plain": [
              "<Figure size 792x576 with 1 Axes>"
            ]
          },
          "metadata": {
            "tags": []
          }
        }
      ]
    },
    {
      "cell_type": "markdown",
      "metadata": {
        "id": "URiSEsEUyH_Z"
      },
      "source": [
        "북미 매출은 Action, Sports, Shooter 순으로 매출이 많고\n",
        "\n",
        "유럽 지역은 Action, Sport, Shooter\n",
        "\n",
        "일본 지역은 Role-playing, Action, Sports \n",
        "\n",
        "다른 지역은 Action, Sports, Shooter 이다.\n",
        "\n",
        "**일본 지역이 특이하게 Role-playing 순위가 높다는 것을 알 수 있다.**"
      ]
    },
    {
      "cell_type": "code",
      "metadata": {
        "id": "lzaUKf-aysae"
      },
      "source": [
        "# 연도별 게임의 트렌드가 있을까?"
      ],
      "execution_count": null,
      "outputs": []
    },
    {
      "cell_type": "code",
      "metadata": {
        "id": "XrjUG_Ysyt2s"
      },
      "source": [
        "# 필요한 데이터만 추출, 연도, 플랫폼과 연도, 장르를 각각 그룹한다.\n",
        "df_y = df[['Platform', 'Year', 'Genre', 'NA_Sales', 'EU_Sales',\t'JP_Sales', 'Other_Sales']]\n",
        "df_y\n",
        "df_groupby_year_p = df_y.groupby(['Year', 'Platform'])\n",
        "df_groupby_year_p = df_groupby_year_p.sum()\n",
        "df_groupby_year_g = df_y.groupby(['Year', 'Genre'])\n",
        "df_groupby_year_g = df_groupby_year_g.sum()"
      ],
      "execution_count": 19,
      "outputs": []
    },
    {
      "cell_type": "code",
      "metadata": {
        "id": "h_RtmPF2269P"
      },
      "source": [
        "# 나라별 매출을 다 합쳐서 데이터를 만든다.\n",
        "df_groupby_year_p['total_Sales'] = df_groupby_year_p['NA_Sales']+df_groupby_year_p['EU_Sales']+df_groupby_year_p['JP_Sales']+df_groupby_year_p['Other_Sales']\n",
        "df_groupby_year_p = df_groupby_year_p.reset_index()\n",
        "df_groupby_year_g['total_Sales'] = df_groupby_year_g['NA_Sales']+df_groupby_year_g['EU_Sales']+df_groupby_year_g['JP_Sales']+df_groupby_year_g['Other_Sales']\n",
        "df_groupby_year_g = df_groupby_year_g.reset_index()"
      ],
      "execution_count": 20,
      "outputs": []
    },
    {
      "cell_type": "code",
      "metadata": {
        "colab": {
          "base_uri": "https://localhost:8080/",
          "height": 457
        },
        "id": "gg8NSLOz_0Gc",
        "outputId": "acfffdfa-3543-47e8-9f1d-e7a39b3c5cd9"
      },
      "source": [
        "df_pivot_year = df_groupby_year_g.pivot('Year', 'Genre', 'total_Sales')\n",
        "df_pivot_year = df_pivot_year.fillna(0)\n",
        "df_pivot_year\n",
        "f, ax = plt.subplots(figsize=(9, 6))\n",
        "sns.heatmap(df_pivot_year, ax=ax)"
      ],
      "execution_count": 23,
      "outputs": [
        {
          "output_type": "execute_result",
          "data": {
            "text/plain": [
              "<matplotlib.axes._subplots.AxesSubplot at 0x7f26cb521a58>"
            ]
          },
          "metadata": {
            "tags": []
          },
          "execution_count": 23
        },
        {
          "output_type": "display_data",
          "data": {
            "image/png": "[encoded data removed]",
            "text/plain": [
              "<Figure size 648x432 with 2 Axes>"
            ]
          },
          "metadata": {
            "tags": [],
            "needs_background": "light"
          }
        }
      ]
    },
    {
      "cell_type": "markdown",
      "metadata": {
        "id": "ln6_WqK7Rfug"
      },
      "source": [
        "최근 트렌드를 보면 액션, 스포츠, shooter 순으로 증가했다가 감소추세에 있다\n",
        "\n",
        "전체적으로 2008년 전후로 해서 매출이 높음을 알 수 있다."
      ]
    },
    {
      "cell_type": "code",
      "metadata": {
        "colab": {
          "base_uri": "https://localhost:8080/",
          "height": 419
        },
        "id": "l9X7LgLuQ_Jw",
        "outputId": "90c51682-6d2d-4233-96b9-fe7e7f87c9de"
      },
      "source": [
        "df_groupby_year_g.melt()"
      ],
      "execution_count": 24,
      "outputs": [
        {
          "output_type": "execute_result",
          "data": {
            "text/html": [
              "<div>\n",
              "<style scoped>\n",
              "    .dataframe tbody tr th:only-of-type {\n",
              "        vertical-align: middle;\n",
              "    }\n",
              "\n",
              "    .dataframe tbody tr th {\n",
              "        vertical-align: top;\n",
              "    }\n",
              "\n",
              "    .dataframe thead th {\n",
              "        text-align: right;\n",
              "    }\n",
              "</style>\n",
              "<table border=\"1\" class=\"dataframe\">\n",
              "  <thead>\n",
              "    <tr style=\"text-align: right;\">\n",
              "      <th></th>\n",
              "      <th>variable</th>\n",
              "      <th>value</th>\n",
              "    </tr>\n",
              "  </thead>\n",
              "  <tbody>\n",
              "    <tr>\n",
              "      <th>0</th>\n",
              "      <td>Year</td>\n",
              "      <td>1980</td>\n",
              "    </tr>\n",
              "    <tr>\n",
              "      <th>1</th>\n",
              "      <td>Year</td>\n",
              "      <td>1980</td>\n",
              "    </tr>\n",
              "    <tr>\n",
              "      <th>2</th>\n",
              "      <td>Year</td>\n",
              "      <td>1980</td>\n",
              "    </tr>\n",
              "    <tr>\n",
              "      <th>3</th>\n",
              "      <td>Year</td>\n",
              "      <td>1980</td>\n",
              "    </tr>\n",
              "    <tr>\n",
              "      <th>4</th>\n",
              "      <td>Year</td>\n",
              "      <td>1981</td>\n",
              "    </tr>\n",
              "    <tr>\n",
              "      <th>...</th>\n",
              "      <td>...</td>\n",
              "      <td>...</td>\n",
              "    </tr>\n",
              "    <tr>\n",
              "      <th>2711</th>\n",
              "      <td>total_Sales</td>\n",
              "      <td>14.63</td>\n",
              "    </tr>\n",
              "    <tr>\n",
              "      <th>2712</th>\n",
              "      <td>total_Sales</td>\n",
              "      <td>0.52</td>\n",
              "    </tr>\n",
              "    <tr>\n",
              "      <th>2713</th>\n",
              "      <td>total_Sales</td>\n",
              "      <td>0.01</td>\n",
              "    </tr>\n",
              "    <tr>\n",
              "      <th>2714</th>\n",
              "      <td>total_Sales</td>\n",
              "      <td>0.04</td>\n",
              "    </tr>\n",
              "    <tr>\n",
              "      <th>2715</th>\n",
              "      <td>total_Sales</td>\n",
              "      <td>0.29</td>\n",
              "    </tr>\n",
              "  </tbody>\n",
              "</table>\n",
              "<p>2716 rows × 2 columns</p>\n",
              "</div>"
            ],
            "text/plain": [
              "         variable  value\n",
              "0            Year   1980\n",
              "1            Year   1980\n",
              "2            Year   1980\n",
              "3            Year   1980\n",
              "4            Year   1981\n",
              "...           ...    ...\n",
              "2711  total_Sales  14.63\n",
              "2712  total_Sales   0.52\n",
              "2713  total_Sales   0.01\n",
              "2714  total_Sales   0.04\n",
              "2715  total_Sales   0.29\n",
              "\n",
              "[2716 rows x 2 columns]"
            ]
          },
          "metadata": {
            "tags": []
          },
          "execution_count": 24
        }
      ]
    },
    {
      "cell_type": "code",
      "metadata": {
        "colab": {
          "base_uri": "https://localhost:8080/",
          "height": 810
        },
        "id": "7BqvogTx_QJY",
        "outputId": "2faf3ac7-df85-4ff7-cc1a-3c0e0aeb8c93"
      },
      "source": [
        "fig, ax = plt.subplots()\n",
        "fig.set_size_inches(50, 30)\n",
        "sns.set_theme(style=\"whitegrid\")\n",
        "sns.barplot(x='Year', y='total_Sales', hue='Genre', data=df_groupby_year_g)"
      ],
      "execution_count": 25,
      "outputs": [
        {
          "output_type": "execute_result",
          "data": {
            "text/plain": [
              "<matplotlib.axes._subplots.AxesSubplot at 0x7f26ca98f160>"
            ]
          },
          "metadata": {
            "tags": []
          },
          "execution_count": 25
        },
        {
          "output_type": "display_data",
          "data": {
            "image/png": "[encoded data removed]",
            "text/plain": [
              "<Figure size 3600x2160 with 1 Axes>"
            ]
          },
          "metadata": {
            "tags": [],
            "needs_background": "light"
          }
        }
      ]
    },
    {
      "cell_type": "markdown",
      "metadata": {
        "id": "CZFVFB6UBOgI"
      },
      "source": [
        "1980년대는 platform 이 주를 이뤘고\n",
        "1990년대 후반 ~ 200년대 초반에는 는 Action이 높아졌고\n",
        "2000년대 후반으로 갈 수록 sport의 비율이 높아졌다."
      ]
    },
    {
      "cell_type": "code",
      "metadata": {
        "colab": {
          "base_uri": "https://localhost:8080/",
          "height": 811
        },
        "id": "bX8nD0VBBDYA",
        "outputId": "0daf2baf-37fd-48cb-8fbf-7f945fe15d38"
      },
      "source": [
        "fig, ax = plt.subplots()\n",
        "fig.set_size_inches(50, 30)\n",
        "sns.set_theme(style=\"whitegrid\")\n",
        "sns.barplot(x='Year', y='total_Sales', hue='Platform', data=df_groupby_year_p)"
      ],
      "execution_count": 27,
      "outputs": [
        {
          "output_type": "execute_result",
          "data": {
            "text/plain": [
              "<matplotlib.axes._subplots.AxesSubplot at 0x7f26c708afd0>"
            ]
          },
          "metadata": {
            "tags": []
          },
          "execution_count": 27
        },
        {
          "output_type": "display_data",
          "data": {
            "image/png": "[encoded data removed]",
            "text/plain": [
              "<Figure size 3600x2160 with 1 Axes>"
            ]
          },
          "metadata": {
            "tags": []
          }
        }
      ]
    },
    {
      "cell_type": "markdown",
      "metadata": {
        "id": "kKJQp3BfCrON"
      },
      "source": [
        "플랫폼을 보면 정렬 순으로 증가됨을 알 수 있다."
      ]
    },
    {
      "cell_type": "markdown",
      "metadata": {
        "id": "LtFOdNOSCFty"
      },
      "source": [
        ""
      ]
    },
    {
      "cell_type": "code",
      "metadata": {
        "id": "vKW5lv-0C3tN"
      },
      "source": [
        "# 매출이 높은 게임에 대한 분석 및 시각화 프로세스"
      ],
      "execution_count": null,
      "outputs": []
    },
    {
      "cell_type": "code",
      "metadata": {
        "id": "rZhAflt1C46B"
      },
      "source": [
        "# total_sales 만든다.\n",
        "df2= df.copy()\n",
        "df2['total_Sales'] = df2['NA_Sales']+df2['EU_Sales']+df2['JP_Sales']+df2['Other_Sales']\n",
        "df2_g = df2.groupby(['Name'])"
      ],
      "execution_count": 28,
      "outputs": []
    },
    {
      "cell_type": "code",
      "metadata": {
        "id": "__VL4DB2VliU"
      },
      "source": [
        "df2_g = df2_g.sum().sort_values(by=['total_Sales'], ascending=False)"
      ],
      "execution_count": 29,
      "outputs": []
    },
    {
      "cell_type": "code",
      "metadata": {
        "id": "Z1o3aKOmDJpE"
      },
      "source": [
        "df2_g = df2_g.reset_index()"
      ],
      "execution_count": 30,
      "outputs": []
    },
    {
      "cell_type": "code",
      "metadata": {
        "id": "frB1pPfhTFMs"
      },
      "source": [
        "df2_g.head(10)\n",
        "df2_g = df2_g.drop(['Unnamed: 0', 'Year'], axis=1)\n",
        "df2_g = df2_g.head(10)"
      ],
      "execution_count": 31,
      "outputs": []
    },
    {
      "cell_type": "code",
      "metadata": {
        "colab": {
          "base_uri": "https://localhost:8080/",
          "height": 390
        },
        "id": "m8P66qLjYeRo",
        "outputId": "34ff06f9-f914-4464-e338-9e2ac53a5d73"
      },
      "source": [
        "df2_g = df2_g.set_index('Name')\n",
        "df2_g"
      ],
      "execution_count": 32,
      "outputs": [
        {
          "output_type": "execute_result",
          "data": {
            "text/html": [
              "<div>\n",
              "<style scoped>\n",
              "    .dataframe tbody tr th:only-of-type {\n",
              "        vertical-align: middle;\n",
              "    }\n",
              "\n",
              "    .dataframe tbody tr th {\n",
              "        vertical-align: top;\n",
              "    }\n",
              "\n",
              "    .dataframe thead th {\n",
              "        text-align: right;\n",
              "    }\n",
              "</style>\n",
              "<table border=\"1\" class=\"dataframe\">\n",
              "  <thead>\n",
              "    <tr style=\"text-align: right;\">\n",
              "      <th></th>\n",
              "      <th>NA_Sales</th>\n",
              "      <th>EU_Sales</th>\n",
              "      <th>JP_Sales</th>\n",
              "      <th>Other_Sales</th>\n",
              "      <th>total_Sales</th>\n",
              "    </tr>\n",
              "    <tr>\n",
              "      <th>Name</th>\n",
              "      <th></th>\n",
              "      <th></th>\n",
              "      <th></th>\n",
              "      <th></th>\n",
              "      <th></th>\n",
              "    </tr>\n",
              "  </thead>\n",
              "  <tbody>\n",
              "    <tr>\n",
              "      <th>Wii Sports</th>\n",
              "      <td>41.49</td>\n",
              "      <td>29.02</td>\n",
              "      <td>3.77</td>\n",
              "      <td>8.46</td>\n",
              "      <td>82.74</td>\n",
              "    </tr>\n",
              "    <tr>\n",
              "      <th>Grand Theft Auto V</th>\n",
              "      <td>23.46</td>\n",
              "      <td>23.04</td>\n",
              "      <td>1.39</td>\n",
              "      <td>8.03</td>\n",
              "      <td>55.92</td>\n",
              "    </tr>\n",
              "    <tr>\n",
              "      <th>Super Mario Bros.</th>\n",
              "      <td>32.48</td>\n",
              "      <td>4.88</td>\n",
              "      <td>6.96</td>\n",
              "      <td>0.99</td>\n",
              "      <td>45.31</td>\n",
              "    </tr>\n",
              "    <tr>\n",
              "      <th>Tetris</th>\n",
              "      <td>26.17</td>\n",
              "      <td>2.95</td>\n",
              "      <td>6.03</td>\n",
              "      <td>0.69</td>\n",
              "      <td>35.84</td>\n",
              "    </tr>\n",
              "    <tr>\n",
              "      <th>Mario Kart Wii</th>\n",
              "      <td>15.85</td>\n",
              "      <td>12.88</td>\n",
              "      <td>3.79</td>\n",
              "      <td>3.31</td>\n",
              "      <td>35.83</td>\n",
              "    </tr>\n",
              "    <tr>\n",
              "      <th>Wii Sports Resort</th>\n",
              "      <td>15.75</td>\n",
              "      <td>11.01</td>\n",
              "      <td>3.28</td>\n",
              "      <td>2.96</td>\n",
              "      <td>33.00</td>\n",
              "    </tr>\n",
              "    <tr>\n",
              "      <th>Pokemon Red/Pokemon Blue</th>\n",
              "      <td>11.27</td>\n",
              "      <td>8.89</td>\n",
              "      <td>10.22</td>\n",
              "      <td>1.00</td>\n",
              "      <td>31.38</td>\n",
              "    </tr>\n",
              "    <tr>\n",
              "      <th>Call of Duty: Black Ops</th>\n",
              "      <td>17.59</td>\n",
              "      <td>9.50</td>\n",
              "      <td>0.59</td>\n",
              "      <td>3.36</td>\n",
              "      <td>31.04</td>\n",
              "    </tr>\n",
              "    <tr>\n",
              "      <th>Call of Duty: Modern Warfare 3</th>\n",
              "      <td>15.58</td>\n",
              "      <td>11.29</td>\n",
              "      <td>0.62</td>\n",
              "      <td>3.35</td>\n",
              "      <td>30.84</td>\n",
              "    </tr>\n",
              "    <tr>\n",
              "      <th>New Super Mario Bros.</th>\n",
              "      <td>11.38</td>\n",
              "      <td>9.23</td>\n",
              "      <td>6.50</td>\n",
              "      <td>2.90</td>\n",
              "      <td>30.01</td>\n",
              "    </tr>\n",
              "  </tbody>\n",
              "</table>\n",
              "</div>"
            ],
            "text/plain": [
              "                                NA_Sales  EU_Sales  ...  Other_Sales  total_Sales\n",
              "Name                                                ...                          \n",
              "Wii Sports                         41.49     29.02  ...         8.46        82.74\n",
              "Grand Theft Auto V                 23.46     23.04  ...         8.03        55.92\n",
              "Super Mario Bros.                  32.48      4.88  ...         0.99        45.31\n",
              "Tetris                             26.17      2.95  ...         0.69        35.84\n",
              "Mario Kart Wii                     15.85     12.88  ...         3.31        35.83\n",
              "Wii Sports Resort                  15.75     11.01  ...         2.96        33.00\n",
              "Pokemon Red/Pokemon Blue           11.27      8.89  ...         1.00        31.38\n",
              "Call of Duty: Black Ops            17.59      9.50  ...         3.36        31.04\n",
              "Call of Duty: Modern Warfare 3     15.58     11.29  ...         3.35        30.84\n",
              "New Super Mario Bros.              11.38      9.23  ...         2.90        30.01\n",
              "\n",
              "[10 rows x 5 columns]"
            ]
          },
          "metadata": {
            "tags": []
          },
          "execution_count": 32
        }
      ]
    },
    {
      "cell_type": "code",
      "metadata": {
        "colab": {
          "base_uri": "https://localhost:8080/",
          "height": 282
        },
        "id": "afhb3LDTVD1j",
        "outputId": "197a62fe-3a78-4e2d-ddfc-66ba3ec5a1b3"
      },
      "source": [
        "fig, ax = plt.subplots()\n",
        "fig.set_size_inches(30, 5)\n",
        "sns.lineplot(data=df2_g)"
      ],
      "execution_count": 33,
      "outputs": [
        {
          "output_type": "execute_result",
          "data": {
            "text/plain": [
              "<matplotlib.axes._subplots.AxesSubplot at 0x7f26ca11ff60>"
            ]
          },
          "metadata": {
            "tags": []
          },
          "execution_count": 33
        },
        {
          "output_type": "display_data",
          "data": {
            "image/png": "[encoded data removed]",
            "text/plain": [
              "<Figure size 2160x360 with 1 Axes>"
            ]
          },
          "metadata": {
            "tags": []
          }
        }
      ]
    },
    {
      "cell_type": "markdown",
      "metadata": {
        "id": "bLYohfpPbzHn"
      },
      "source": [
        "상위 매출 10개의 게임에 대해 분석\n",
        "will sports는 제일 매출이 높고 북미에서 가장 매출이 높다. \n",
        "\n",
        "\n",
        "1~2위 게임의 매출은 북미, 유럽순으로 높고\n",
        "슈퍼마리오 게임, 테트리스 게임은 북미, 일본순으로 높다. \n",
        "\n",
        "\n",
        "상위 게임중 윌 게임, 슈퍼마리오 게임에 대한 것들이 절반정도를 차지하고 있기 때문에 슈퍼마리오, 윌의 매출이 높다는 것을 알 수 있다."
      ]
    },
    {
      "cell_type": "code",
      "metadata": {
        "colab": {
          "base_uri": "https://localhost:8080/",
          "height": 204
        },
        "id": "ApsS44m8bxIQ",
        "outputId": "3abf1d97-6ad6-4cee-d1a3-8f7da6bcb28b"
      },
      "source": [
        "df2_g.cov()"
      ],
      "execution_count": 34,
      "outputs": [
        {
          "output_type": "execute_result",
          "data": {
            "text/html": [
              "<div>\n",
              "<style scoped>\n",
              "    .dataframe tbody tr th:only-of-type {\n",
              "        vertical-align: middle;\n",
              "    }\n",
              "\n",
              "    .dataframe tbody tr th {\n",
              "        vertical-align: top;\n",
              "    }\n",
              "\n",
              "    .dataframe thead th {\n",
              "        text-align: right;\n",
              "    }\n",
              "</style>\n",
              "<table border=\"1\" class=\"dataframe\">\n",
              "  <thead>\n",
              "    <tr style=\"text-align: right;\">\n",
              "      <th></th>\n",
              "      <th>NA_Sales</th>\n",
              "      <th>EU_Sales</th>\n",
              "      <th>JP_Sales</th>\n",
              "      <th>Other_Sales</th>\n",
              "      <th>total_Sales</th>\n",
              "    </tr>\n",
              "  </thead>\n",
              "  <tbody>\n",
              "    <tr>\n",
              "      <th>NA_Sales</th>\n",
              "      <td>96.290418</td>\n",
              "      <td>35.227124</td>\n",
              "      <td>-1.860011</td>\n",
              "      <td>11.625278</td>\n",
              "      <td>141.282809</td>\n",
              "    </tr>\n",
              "    <tr>\n",
              "      <th>EU_Sales</th>\n",
              "      <td>35.227124</td>\n",
              "      <td>63.254321</td>\n",
              "      <td>-9.759939</td>\n",
              "      <td>20.886617</td>\n",
              "      <td>109.608123</td>\n",
              "    </tr>\n",
              "    <tr>\n",
              "      <th>JP_Sales</th>\n",
              "      <td>-1.860011</td>\n",
              "      <td>-9.759939</td>\n",
              "      <td>9.700961</td>\n",
              "      <td>-4.638961</td>\n",
              "      <td>-6.557950</td>\n",
              "    </tr>\n",
              "    <tr>\n",
              "      <th>Other_Sales</th>\n",
              "      <td>11.625278</td>\n",
              "      <td>20.886617</td>\n",
              "      <td>-4.638961</td>\n",
              "      <td>7.366472</td>\n",
              "      <td>35.239406</td>\n",
              "    </tr>\n",
              "    <tr>\n",
              "      <th>total_Sales</th>\n",
              "      <td>141.282809</td>\n",
              "      <td>109.608123</td>\n",
              "      <td>-6.557950</td>\n",
              "      <td>35.239406</td>\n",
              "      <td>279.572388</td>\n",
              "    </tr>\n",
              "  </tbody>\n",
              "</table>\n",
              "</div>"
            ],
            "text/plain": [
              "               NA_Sales    EU_Sales  JP_Sales  Other_Sales  total_Sales\n",
              "NA_Sales      96.290418   35.227124 -1.860011    11.625278   141.282809\n",
              "EU_Sales      35.227124   63.254321 -9.759939    20.886617   109.608123\n",
              "JP_Sales      -1.860011   -9.759939  9.700961    -4.638961    -6.557950\n",
              "Other_Sales   11.625278   20.886617 -4.638961     7.366472    35.239406\n",
              "total_Sales  141.282809  109.608123 -6.557950    35.239406   279.572388"
            ]
          },
          "metadata": {
            "tags": []
          },
          "execution_count": 34
        }
      ]
    },
    {
      "cell_type": "markdown",
      "metadata": {
        "id": "Dljo_2oUh0fb"
      },
      "source": [
        "상위 10개의 게임 중 일본의 매출은 타 나라의 양상과 다른 것을 알 수 있다."
      ]
    },
    {
      "cell_type": "code",
      "metadata": {
        "colab": {
          "base_uri": "https://localhost:8080/",
          "height": 452
        },
        "id": "HuW_qbMBhzKh",
        "outputId": "f5e9b93b-d203-4de5-c443-860b496173ef"
      },
      "source": [
        "df_groupby_genre = df_groupby_genre.set_index('Genre')\n",
        "df_groupby_genre"
      ],
      "execution_count": 35,
      "outputs": [
        {
          "output_type": "execute_result",
          "data": {
            "text/html": [
              "<div>\n",
              "<style scoped>\n",
              "    .dataframe tbody tr th:only-of-type {\n",
              "        vertical-align: middle;\n",
              "    }\n",
              "\n",
              "    .dataframe tbody tr th {\n",
              "        vertical-align: top;\n",
              "    }\n",
              "\n",
              "    .dataframe thead th {\n",
              "        text-align: right;\n",
              "    }\n",
              "</style>\n",
              "<table border=\"1\" class=\"dataframe\">\n",
              "  <thead>\n",
              "    <tr style=\"text-align: right;\">\n",
              "      <th></th>\n",
              "      <th>NA_Sales</th>\n",
              "      <th>EU_Sales</th>\n",
              "      <th>JP_Sales</th>\n",
              "      <th>Other_Sales</th>\n",
              "    </tr>\n",
              "    <tr>\n",
              "      <th>Genre</th>\n",
              "      <th></th>\n",
              "      <th></th>\n",
              "      <th></th>\n",
              "      <th></th>\n",
              "    </tr>\n",
              "  </thead>\n",
              "  <tbody>\n",
              "    <tr>\n",
              "      <th>Action</th>\n",
              "      <td>874.81</td>\n",
              "      <td>522.16</td>\n",
              "      <td>157.90</td>\n",
              "      <td>186.45</td>\n",
              "    </tr>\n",
              "    <tr>\n",
              "      <th>Adventure</th>\n",
              "      <td>105.66</td>\n",
              "      <td>64.05</td>\n",
              "      <td>51.95</td>\n",
              "      <td>16.81</td>\n",
              "    </tr>\n",
              "    <tr>\n",
              "      <th>Fighting</th>\n",
              "      <td>223.20</td>\n",
              "      <td>101.22</td>\n",
              "      <td>87.34</td>\n",
              "      <td>36.64</td>\n",
              "    </tr>\n",
              "    <tr>\n",
              "      <th>Misc</th>\n",
              "      <td>408.05</td>\n",
              "      <td>212.36</td>\n",
              "      <td>105.27</td>\n",
              "      <td>74.04</td>\n",
              "    </tr>\n",
              "    <tr>\n",
              "      <th>Platform</th>\n",
              "      <td>446.44</td>\n",
              "      <td>201.61</td>\n",
              "      <td>130.65</td>\n",
              "      <td>51.53</td>\n",
              "    </tr>\n",
              "    <tr>\n",
              "      <th>Puzzle</th>\n",
              "      <td>123.35</td>\n",
              "      <td>50.73</td>\n",
              "      <td>56.87</td>\n",
              "      <td>12.52</td>\n",
              "    </tr>\n",
              "    <tr>\n",
              "      <th>Racing</th>\n",
              "      <td>357.19</td>\n",
              "      <td>237.10</td>\n",
              "      <td>56.40</td>\n",
              "      <td>77.10</td>\n",
              "    </tr>\n",
              "    <tr>\n",
              "      <th>Role-Playing</th>\n",
              "      <td>319.54</td>\n",
              "      <td>183.58</td>\n",
              "      <td>344.95</td>\n",
              "      <td>56.96</td>\n",
              "    </tr>\n",
              "    <tr>\n",
              "      <th>Shooter</th>\n",
              "      <td>581.92</td>\n",
              "      <td>313.05</td>\n",
              "      <td>38.28</td>\n",
              "      <td>102.65</td>\n",
              "    </tr>\n",
              "    <tr>\n",
              "      <th>Simulation</th>\n",
              "      <td>182.96</td>\n",
              "      <td>113.35</td>\n",
              "      <td>63.70</td>\n",
              "      <td>31.48</td>\n",
              "    </tr>\n",
              "    <tr>\n",
              "      <th>Sports</th>\n",
              "      <td>680.52</td>\n",
              "      <td>376.48</td>\n",
              "      <td>135.37</td>\n",
              "      <td>134.67</td>\n",
              "    </tr>\n",
              "    <tr>\n",
              "      <th>Strategy</th>\n",
              "      <td>68.70</td>\n",
              "      <td>45.32</td>\n",
              "      <td>49.46</td>\n",
              "      <td>11.36</td>\n",
              "    </tr>\n",
              "  </tbody>\n",
              "</table>\n",
              "</div>"
            ],
            "text/plain": [
              "              NA_Sales  EU_Sales  JP_Sales  Other_Sales\n",
              "Genre                                                  \n",
              "Action          874.81    522.16    157.90       186.45\n",
              "Adventure       105.66     64.05     51.95        16.81\n",
              "Fighting        223.20    101.22     87.34        36.64\n",
              "Misc            408.05    212.36    105.27        74.04\n",
              "Platform        446.44    201.61    130.65        51.53\n",
              "Puzzle          123.35     50.73     56.87        12.52\n",
              "Racing          357.19    237.10     56.40        77.10\n",
              "Role-Playing    319.54    183.58    344.95        56.96\n",
              "Shooter         581.92    313.05     38.28       102.65\n",
              "Simulation      182.96    113.35     63.70        31.48\n",
              "Sports          680.52    376.48    135.37       134.67\n",
              "Strategy         68.70     45.32     49.46        11.36"
            ]
          },
          "metadata": {
            "tags": []
          },
          "execution_count": 35
        }
      ]
    },
    {
      "cell_type": "code",
      "metadata": {
        "colab": {
          "base_uri": "https://localhost:8080/"
        },
        "id": "dZvKh2LEunNY",
        "outputId": "10516069-d6c3-4421-f287-bf2866490796"
      },
      "source": [
        "from sklearn.preprocessing import StandardScaler\n",
        "from sklearn.decomposition import PCA\n",
        "\n",
        "scaler = StandardScaler()\n",
        "df_groupby_genre_scaled = scaler.fit_transform(df_groupby_genre)\n",
        "pca = PCA(1)\n",
        "pca.fit(df_groupby_genre_scaled)\n",
        "df_pca = pca.transform(df_groupby_genre_scaled)\n",
        "df_pca"
      ],
      "execution_count": 36,
      "outputs": [
        {
          "output_type": "execute_result",
          "data": {
            "text/plain": [
              "array([[ 3.96927543],\n",
              "       [-1.85948309],\n",
              "       [-1.11663117],\n",
              "       [ 0.23073913],\n",
              "       [ 0.09960067],\n",
              "       [-1.90568479],\n",
              "       [ 0.11124757],\n",
              "       [ 0.37514879],\n",
              "       [ 1.18019923],\n",
              "       [-1.28355036],\n",
              "       [ 2.28852631],\n",
              "       [-2.08938772]])"
            ]
          },
          "metadata": {
            "tags": []
          },
          "execution_count": 36
        }
      ]
    },
    {
      "cell_type": "code",
      "metadata": {
        "id": "yOxfOaXpvcwv"
      },
      "source": [
        "df_groupby_genre['pc'] = df_pca"
      ],
      "execution_count": 37,
      "outputs": []
    },
    {
      "cell_type": "code",
      "metadata": {
        "colab": {
          "base_uri": "https://localhost:8080/",
          "height": 452
        },
        "id": "zwZvcSgywQgj",
        "outputId": "3f4ebc95-36ce-45ec-9e7a-9a1b0415af8b"
      },
      "source": [
        "df_groupby_genre.sort_values(by='pc', ascending=False)"
      ],
      "execution_count": 38,
      "outputs": [
        {
          "output_type": "execute_result",
          "data": {
            "text/html": [
              "<div>\n",
              "<style scoped>\n",
              "    .dataframe tbody tr th:only-of-type {\n",
              "        vertical-align: middle;\n",
              "    }\n",
              "\n",
              "    .dataframe tbody tr th {\n",
              "        vertical-align: top;\n",
              "    }\n",
              "\n",
              "    .dataframe thead th {\n",
              "        text-align: right;\n",
              "    }\n",
              "</style>\n",
              "<table border=\"1\" class=\"dataframe\">\n",
              "  <thead>\n",
              "    <tr style=\"text-align: right;\">\n",
              "      <th></th>\n",
              "      <th>NA_Sales</th>\n",
              "      <th>EU_Sales</th>\n",
              "      <th>JP_Sales</th>\n",
              "      <th>Other_Sales</th>\n",
              "      <th>pc</th>\n",
              "    </tr>\n",
              "    <tr>\n",
              "      <th>Genre</th>\n",
              "      <th></th>\n",
              "      <th></th>\n",
              "      <th></th>\n",
              "      <th></th>\n",
              "      <th></th>\n",
              "    </tr>\n",
              "  </thead>\n",
              "  <tbody>\n",
              "    <tr>\n",
              "      <th>Action</th>\n",
              "      <td>874.81</td>\n",
              "      <td>522.16</td>\n",
              "      <td>157.90</td>\n",
              "      <td>186.45</td>\n",
              "      <td>3.969275</td>\n",
              "    </tr>\n",
              "    <tr>\n",
              "      <th>Sports</th>\n",
              "      <td>680.52</td>\n",
              "      <td>376.48</td>\n",
              "      <td>135.37</td>\n",
              "      <td>134.67</td>\n",
              "      <td>2.288526</td>\n",
              "    </tr>\n",
              "    <tr>\n",
              "      <th>Shooter</th>\n",
              "      <td>581.92</td>\n",
              "      <td>313.05</td>\n",
              "      <td>38.28</td>\n",
              "      <td>102.65</td>\n",
              "      <td>1.180199</td>\n",
              "    </tr>\n",
              "    <tr>\n",
              "      <th>Role-Playing</th>\n",
              "      <td>319.54</td>\n",
              "      <td>183.58</td>\n",
              "      <td>344.95</td>\n",
              "      <td>56.96</td>\n",
              "      <td>0.375149</td>\n",
              "    </tr>\n",
              "    <tr>\n",
              "      <th>Misc</th>\n",
              "      <td>408.05</td>\n",
              "      <td>212.36</td>\n",
              "      <td>105.27</td>\n",
              "      <td>74.04</td>\n",
              "      <td>0.230739</td>\n",
              "    </tr>\n",
              "    <tr>\n",
              "      <th>Racing</th>\n",
              "      <td>357.19</td>\n",
              "      <td>237.10</td>\n",
              "      <td>56.40</td>\n",
              "      <td>77.10</td>\n",
              "      <td>0.111248</td>\n",
              "    </tr>\n",
              "    <tr>\n",
              "      <th>Platform</th>\n",
              "      <td>446.44</td>\n",
              "      <td>201.61</td>\n",
              "      <td>130.65</td>\n",
              "      <td>51.53</td>\n",
              "      <td>0.099601</td>\n",
              "    </tr>\n",
              "    <tr>\n",
              "      <th>Fighting</th>\n",
              "      <td>223.20</td>\n",
              "      <td>101.22</td>\n",
              "      <td>87.34</td>\n",
              "      <td>36.64</td>\n",
              "      <td>-1.116631</td>\n",
              "    </tr>\n",
              "    <tr>\n",
              "      <th>Simulation</th>\n",
              "      <td>182.96</td>\n",
              "      <td>113.35</td>\n",
              "      <td>63.70</td>\n",
              "      <td>31.48</td>\n",
              "      <td>-1.283550</td>\n",
              "    </tr>\n",
              "    <tr>\n",
              "      <th>Adventure</th>\n",
              "      <td>105.66</td>\n",
              "      <td>64.05</td>\n",
              "      <td>51.95</td>\n",
              "      <td>16.81</td>\n",
              "      <td>-1.859483</td>\n",
              "    </tr>\n",
              "    <tr>\n",
              "      <th>Puzzle</th>\n",
              "      <td>123.35</td>\n",
              "      <td>50.73</td>\n",
              "      <td>56.87</td>\n",
              "      <td>12.52</td>\n",
              "      <td>-1.905685</td>\n",
              "    </tr>\n",
              "    <tr>\n",
              "      <th>Strategy</th>\n",
              "      <td>68.70</td>\n",
              "      <td>45.32</td>\n",
              "      <td>49.46</td>\n",
              "      <td>11.36</td>\n",
              "      <td>-2.089388</td>\n",
              "    </tr>\n",
              "  </tbody>\n",
              "</table>\n",
              "</div>"
            ],
            "text/plain": [
              "              NA_Sales  EU_Sales  JP_Sales  Other_Sales        pc\n",
              "Genre                                                            \n",
              "Action          874.81    522.16    157.90       186.45  3.969275\n",
              "Sports          680.52    376.48    135.37       134.67  2.288526\n",
              "Shooter         581.92    313.05     38.28       102.65  1.180199\n",
              "Role-Playing    319.54    183.58    344.95        56.96  0.375149\n",
              "Misc            408.05    212.36    105.27        74.04  0.230739\n",
              "Racing          357.19    237.10     56.40        77.10  0.111248\n",
              "Platform        446.44    201.61    130.65        51.53  0.099601\n",
              "Fighting        223.20    101.22     87.34        36.64 -1.116631\n",
              "Simulation      182.96    113.35     63.70        31.48 -1.283550\n",
              "Adventure       105.66     64.05     51.95        16.81 -1.859483\n",
              "Puzzle          123.35     50.73     56.87        12.52 -1.905685\n",
              "Strategy         68.70     45.32     49.46        11.36 -2.089388"
            ]
          },
          "metadata": {
            "tags": []
          },
          "execution_count": 38
        }
      ]
    },
    {
      "cell_type": "markdown",
      "metadata": {
        "id": "_KYNktd8wf8S"
      },
      "source": [
        "액션, 스포츠, 총게임 순으로 매출이 가장 많다."
      ]
    },
    {
      "cell_type": "code",
      "metadata": {
        "colab": {
          "base_uri": "https://localhost:8080/",
          "height": 390
        },
        "id": "JyAvtktBwfK-",
        "outputId": "8bb4c2f5-b355-43eb-b36b-ce95222e1f23"
      },
      "source": [
        "# 새로운 게임을 만들기 위해서는 최근 트렌드를 알아야 한다.\n",
        "# 최근 2010년부터 2016년까지의 데이터를 뽑아 예측한다.\n",
        "df_groupby_year = df.groupby('Year')\n",
        "df_groupby_year = df_groupby_year.sum()\n",
        "df_groupby_year = df_groupby_year.tail(10)\n",
        "df_groupby_year = df_groupby_year.drop('Unnamed: 0', axis=1)\n",
        "df_groupby_year"
      ],
      "execution_count": 45,
      "outputs": [
        {
          "output_type": "execute_result",
          "data": {
            "text/html": [
              "<div>\n",
              "<style scoped>\n",
              "    .dataframe tbody tr th:only-of-type {\n",
              "        vertical-align: middle;\n",
              "    }\n",
              "\n",
              "    .dataframe tbody tr th {\n",
              "        vertical-align: top;\n",
              "    }\n",
              "\n",
              "    .dataframe thead th {\n",
              "        text-align: right;\n",
              "    }\n",
              "</style>\n",
              "<table border=\"1\" class=\"dataframe\">\n",
              "  <thead>\n",
              "    <tr style=\"text-align: right;\">\n",
              "      <th></th>\n",
              "      <th>NA_Sales</th>\n",
              "      <th>EU_Sales</th>\n",
              "      <th>JP_Sales</th>\n",
              "      <th>Other_Sales</th>\n",
              "    </tr>\n",
              "    <tr>\n",
              "      <th>Year</th>\n",
              "      <th></th>\n",
              "      <th></th>\n",
              "      <th></th>\n",
              "      <th></th>\n",
              "    </tr>\n",
              "  </thead>\n",
              "  <tbody>\n",
              "    <tr>\n",
              "      <th>2009.0</th>\n",
              "      <td>338.85</td>\n",
              "      <td>191.59</td>\n",
              "      <td>61.89</td>\n",
              "      <td>74.77</td>\n",
              "    </tr>\n",
              "    <tr>\n",
              "      <th>2010.0</th>\n",
              "      <td>304.24</td>\n",
              "      <td>176.73</td>\n",
              "      <td>59.49</td>\n",
              "      <td>59.90</td>\n",
              "    </tr>\n",
              "    <tr>\n",
              "      <th>2011.0</th>\n",
              "      <td>241.06</td>\n",
              "      <td>167.44</td>\n",
              "      <td>53.04</td>\n",
              "      <td>54.39</td>\n",
              "    </tr>\n",
              "    <tr>\n",
              "      <th>2012.0</th>\n",
              "      <td>154.96</td>\n",
              "      <td>118.78</td>\n",
              "      <td>51.74</td>\n",
              "      <td>37.82</td>\n",
              "    </tr>\n",
              "    <tr>\n",
              "      <th>2013.0</th>\n",
              "      <td>154.77</td>\n",
              "      <td>125.80</td>\n",
              "      <td>47.59</td>\n",
              "      <td>39.82</td>\n",
              "    </tr>\n",
              "    <tr>\n",
              "      <th>2014.0</th>\n",
              "      <td>131.97</td>\n",
              "      <td>125.65</td>\n",
              "      <td>39.46</td>\n",
              "      <td>40.02</td>\n",
              "    </tr>\n",
              "    <tr>\n",
              "      <th>2015.0</th>\n",
              "      <td>102.82</td>\n",
              "      <td>97.71</td>\n",
              "      <td>33.72</td>\n",
              "      <td>30.01</td>\n",
              "    </tr>\n",
              "    <tr>\n",
              "      <th>2016.0</th>\n",
              "      <td>22.66</td>\n",
              "      <td>26.76</td>\n",
              "      <td>13.70</td>\n",
              "      <td>7.75</td>\n",
              "    </tr>\n",
              "    <tr>\n",
              "      <th>2017.0</th>\n",
              "      <td>0.00</td>\n",
              "      <td>0.00</td>\n",
              "      <td>0.05</td>\n",
              "      <td>0.00</td>\n",
              "    </tr>\n",
              "    <tr>\n",
              "      <th>2020.0</th>\n",
              "      <td>0.27</td>\n",
              "      <td>0.00</td>\n",
              "      <td>0.00</td>\n",
              "      <td>0.02</td>\n",
              "    </tr>\n",
              "  </tbody>\n",
              "</table>\n",
              "</div>"
            ],
            "text/plain": [
              "        NA_Sales  EU_Sales  JP_Sales  Other_Sales\n",
              "Year                                             \n",
              "2009.0    338.85    191.59     61.89        74.77\n",
              "2010.0    304.24    176.73     59.49        59.90\n",
              "2011.0    241.06    167.44     53.04        54.39\n",
              "2012.0    154.96    118.78     51.74        37.82\n",
              "2013.0    154.77    125.80     47.59        39.82\n",
              "2014.0    131.97    125.65     39.46        40.02\n",
              "2015.0    102.82     97.71     33.72        30.01\n",
              "2016.0     22.66     26.76     13.70         7.75\n",
              "2017.0      0.00      0.00      0.05         0.00\n",
              "2020.0      0.27      0.00      0.00         0.02"
            ]
          },
          "metadata": {
            "tags": []
          },
          "execution_count": 45
        }
      ]
    },
    {
      "cell_type": "code",
      "metadata": {
        "colab": {
          "base_uri": "https://localhost:8080/",
          "height": 394
        },
        "id": "0GUcPAsJSdge",
        "outputId": "78dda4bf-b85d-438d-a987-bc402d1acfda"
      },
      "source": [
        "f, ax = plt.subplots(figsize=(9, 6))\n",
        "sns.heatmap(df_groupby_year, ax=ax)"
      ],
      "execution_count": 46,
      "outputs": [
        {
          "output_type": "execute_result",
          "data": {
            "text/plain": [
              "<matplotlib.axes._subplots.AxesSubplot at 0x7f26c4e3e8d0>"
            ]
          },
          "metadata": {
            "tags": []
          },
          "execution_count": 46
        },
        {
          "output_type": "display_data",
          "data": {
            "image/png": "[encoded data removed]",
            "text/plain": [
              "<Figure size 648x432 with 2 Axes>"
            ]
          },
          "metadata": {
            "tags": []
          }
        }
      ]
    },
    {
      "cell_type": "markdown",
      "metadata": {
        "id": "nlkC5wyuSjn6"
      },
      "source": [
        "결론\n",
        "\n",
        "매출이 높은 북미 지역을 대상으로 게임을 만드는것이 좋다.\n",
        "\n",
        "최근에는 전체적인 게임 매출의 하락세가 있다. 그럼에도 불구하고 액션과 스포츠는 상위를 차지하고 있으니 액션과 스포츠 게임을 만드는 것이 좋다.\n",
        "\n",
        "윌 게임의 매출이 높았으므로 윌 게임을 이용한 액션, 스포츠 게임을 만들어보자.\n",
        "\n",
        "게임의 매출이 감소하는 이유를 분석해보면 새로운 게임을 만드는 데 도움이 될 것이다."
      ]
    }
  ]
}