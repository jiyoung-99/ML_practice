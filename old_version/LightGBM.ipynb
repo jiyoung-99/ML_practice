{
 "cells": [
  {
   "cell_type": "code",
   "execution_count": null,
   "metadata": {},
   "outputs": [],
   "source": [
    "# XGBoost 과 함께 부스팅 계열 알고리즘에서 각광을 받오 있다. \n",
    "# LightGBM의 단점이 있다면 적은 데이터 셋트에서는 과적합이 발생 할 수 있다.(10000 건 이하)\n",
    "# 설치는 conda install -c conda-forge lightgbm"
   ]
  }
 ],
 "metadata": {
  "kernelspec": {
   "display_name": "Python 3",
   "language": "python",
   "name": "python3"
  },
  "language_info": {
   "codemirror_mode": {
    "name": "ipython",
    "version": 3
   },
   "file_extension": ".py",
   "mimetype": "text/x-python",
   "name": "python",
   "nbconvert_exporter": "python",
   "pygments_lexer": "ipython3",
   "version": "3.7.6"
  }
 },
 "nbformat": 4,
 "nbformat_minor": 4
}
