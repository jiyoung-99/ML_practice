{
  "nbformat": 4,
  "nbformat_minor": 0,
  "metadata": {
    "colab": {
      "name": "GridSearchCV.ipynb",
      "provenance": [],
      "collapsed_sections": [],
      "authorship_tag": "ABX9TyOB0qKhauqpQunQu7+D6j5N",
      "include_colab_link": true
    },
    "kernelspec": {
      "name": "python3",
      "display_name": "Python 3"
    }
  },
  "cells": [
    {
      "cell_type": "markdown",
      "metadata": {
        "id": "view-in-github",
        "colab_type": "text"
      },
      "source": [
        "<a href=\"https://colab.research.google.com/github/jiyoung-99/ML_practice/blob/master/GridSearchCV.ipynb\" target=\"_parent\"><img src=\"https://colab.research.google.com/assets/colab-badge.svg\" alt=\"Open In Colab\"/></a>"
      ]
    },
    {
      "cell_type": "code",
      "metadata": {
        "colab": {
          "base_uri": "https://localhost:8080/"
        },
        "id": "Zxx39sSg6QOr",
        "outputId": "b416e756-320b-40aa-94f2-d2bf5f0da0d3"
      },
      "source": [
        "import pandas as pd\n",
        "import numpy as np\n",
        "from sklearn.datasets import load_iris\n",
        "from sklearn.tree import DecisionTreeClassifier\n",
        "from sklearn.model_selection import GridSearchCV, train_test_split\n",
        "from sklearn.metrics import accuracy_score\n",
        "\n",
        "iris_data = load_iris()\n",
        "label = iris_data.target\n",
        "data = iris_data.data\n",
        "\n",
        "X_train, X_val, y_train, y_val = train_test_split(data, label, test_size=0.2)\n",
        "\n",
        "\n",
        "# GridSearchCV의 param_grid 설정\n",
        "params = {\n",
        "    'max_depth': [2, 3],\n",
        "    'min_samples_split': [2, 3]\n",
        "}\n",
        "\n",
        "dtc = DecisionTreeClassifier()\n",
        "\n",
        "grid_tree = GridSearchCV(dtc, param_grid=params, cv=3, refit=True)\n",
        "grid_tree.fit(X_train, y_train)\n",
        "\n",
        "print('best parameters : ', grid_tree.best_params_)\n",
        "print('best score : ', grid_tree.best_score_)\n",
        "em = grid_tree.best_estimator_\n",
        "pred = em.predict(X_val)\n",
        "accuracy_score(y_val, pred)"
      ],
      "execution_count": null,
      "outputs": [
        {
          "output_type": "stream",
          "text": [
            "best parameters :  {'max_depth': 3, 'min_samples_split': 2}\n",
            "best score :  0.9499999999999998\n"
          ],
          "name": "stdout"
        },
        {
          "output_type": "execute_result",
          "data": {
            "text/plain": [
              "0.9666666666666667"
            ]
          },
          "metadata": {
            "tags": []
          },
          "execution_count": 14
        }
      ]
    }
  ]
}