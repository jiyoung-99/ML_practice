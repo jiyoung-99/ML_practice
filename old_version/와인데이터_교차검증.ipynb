{
  "nbformat": 4,
  "nbformat_minor": 0,
  "metadata": {
    "colab": {
      "name": "와인데이터_교차검증.ipynb",
      "provenance": [],
      "collapsed_sections": [],
      "authorship_tag": "ABX9TyO8807mI3V310ofjn6gvmle",
      "include_colab_link": true
    },
    "kernelspec": {
      "name": "python3",
      "display_name": "Python 3"
    }
  },
  "cells": [
    {
      "cell_type": "markdown",
      "metadata": {
        "id": "view-in-github",
        "colab_type": "text"
      },
      "source": [
        "<a href=\"https://colab.research.google.com/github/jiyoung-99/ML_practice/blob/main/%EC%99%80%EC%9D%B8%EB%8D%B0%EC%9D%B4%ED%84%B0_%EA%B5%90%EC%B0%A8%EA%B2%80%EC%A6%9D.ipynb\" target=\"_parent\"><img src=\"https://colab.research.google.com/assets/colab-badge.svg\" alt=\"Open In Colab\"/></a>"
      ]
    },
    {
      "cell_type": "code",
      "metadata": {
        "id": "QP1g7cyCZThi"
      },
      "source": [
        "from sklearn.datasets import load_wine\n",
        "from sklearn.tree import DecisionTreeClassifier\n",
        "from sklearn.metrics import accuracy_score\n",
        "from sklearn.model_selection import KFold\n",
        "import pandas as pd\n",
        "import numpy as np"
      ],
      "execution_count": 11,
      "outputs": []
    },
    {
      "cell_type": "code",
      "metadata": {
        "id": "ezMFtQWrZbP5"
      },
      "source": [
        "wine = load_wine()\n",
        "wine_features = wine.data\n",
        "wine_target = wine.target\n",
        "wine_dtc = DecisionTreeClassifier()"
      ],
      "execution_count": 12,
      "outputs": []
    },
    {
      "cell_type": "code",
      "metadata": {
        "id": "sMr_dHVYaLtT"
      },
      "source": [
        "# K Fold 객체, 폴드 셋트별 정확도를 가질 리스트 객체 생성한다.\n",
        "kfold = KFold(n_splits=5)\n",
        "accuracy_list = []"
      ],
      "execution_count": 13,
      "outputs": []
    },
    {
      "cell_type": "code",
      "metadata": {
        "colab": {
          "base_uri": "https://localhost:8080/"
        },
        "id": "KwM6L99mabJR",
        "outputId": "c810dc3c-8b8d-4346-ba15-17f99b5a05ec"
      },
      "source": [
        "wine_features.shape"
      ],
      "execution_count": 14,
      "outputs": [
        {
          "output_type": "execute_result",
          "data": {
            "text/plain": [
              "(178, 13)"
            ]
          },
          "metadata": {
            "tags": []
          },
          "execution_count": 14
        }
      ]
    },
    {
      "cell_type": "code",
      "metadata": {
        "colab": {
          "base_uri": "https://localhost:8080/"
        },
        "id": "eyTmuxAJb13C",
        "outputId": "712eda5f-339f-452e-d783-9b8c5c3c7471"
      },
      "source": [
        "iter_num = 0\n",
        "\n",
        "for train_index, test_index in kfold.split(wine_features):\n",
        "    x_train, x_test = wine_features[train_index], wine_features[test_index]\n",
        "    y_train, y_test = wine_target[train_index], wine_target[test_index]\n",
        "\n",
        "\n",
        "    wine_dtc.fit(x_train, y_train)\n",
        "    predict = wine_dtc.predict(x_test)\n",
        "    iter_num += 1\n",
        "\n",
        "    # 정확도 측정\n",
        "    accuracy = np.round(accuracy_score(y_test, predict), 4)\n",
        "    train_size = x_train.shape[0]\n",
        "    test_size = x_test.shape[0]\n",
        "    print('============================')\n",
        "    print('iter 횟수 : ', iter_num)\n",
        "    print('교차 검증 정확도 : ', accuracy)\n",
        "    print('학습 데이터 크기 : ', train_size)\n",
        "    print('학습 데이터 인덱스 : ', train_index)\n",
        "    print('검증 데이터 크기 : ', test_size)\n",
        "    print('============================')\n",
        "    print('iter 횟수 : ', iter_num)\n",
        "    print('검증 셋트 인덱스 : ', test_index)\n",
        "    print('============================')\n",
        "    accuracy_list.append(accuracy)\n",
        "\n",
        "print('============================')\n",
        "print('평균 검증 정확도', np.mean(accuracy_list))"
      ],
      "execution_count": 17,
      "outputs": [
        {
          "output_type": "stream",
          "text": [
            "============================\n",
            "iter 횟수 :  1\n",
            "교차 검증 정확도 :  0.9167\n",
            "학습 데이터 크기 :  142\n",
            "학습 데이터 인덱스 :  [ 36  37  38  39  40  41  42  43  44  45  46  47  48  49  50  51  52  53\n",
            "  54  55  56  57  58  59  60  61  62  63  64  65  66  67  68  69  70  71\n",
            "  72  73  74  75  76  77  78  79  80  81  82  83  84  85  86  87  88  89\n",
            "  90  91  92  93  94  95  96  97  98  99 100 101 102 103 104 105 106 107\n",
            " 108 109 110 111 112 113 114 115 116 117 118 119 120 121 122 123 124 125\n",
            " 126 127 128 129 130 131 132 133 134 135 136 137 138 139 140 141 142 143\n",
            " 144 145 146 147 148 149 150 151 152 153 154 155 156 157 158 159 160 161\n",
            " 162 163 164 165 166 167 168 169 170 171 172 173 174 175 176 177]\n",
            "검증 데이터 크기 :  36\n",
            "============================\n",
            "iter 횟수 :  1\n",
            "검증 셋트 인덱스 :  [ 0  1  2  3  4  5  6  7  8  9 10 11 12 13 14 15 16 17 18 19 20 21 22 23\n",
            " 24 25 26 27 28 29 30 31 32 33 34 35]\n",
            "============================\n",
            "============================\n",
            "iter 횟수 :  2\n",
            "교차 검증 정확도 :  0.8333\n",
            "학습 데이터 크기 :  142\n",
            "학습 데이터 인덱스 :  [  0   1   2   3   4   5   6   7   8   9  10  11  12  13  14  15  16  17\n",
            "  18  19  20  21  22  23  24  25  26  27  28  29  30  31  32  33  34  35\n",
            "  72  73  74  75  76  77  78  79  80  81  82  83  84  85  86  87  88  89\n",
            "  90  91  92  93  94  95  96  97  98  99 100 101 102 103 104 105 106 107\n",
            " 108 109 110 111 112 113 114 115 116 117 118 119 120 121 122 123 124 125\n",
            " 126 127 128 129 130 131 132 133 134 135 136 137 138 139 140 141 142 143\n",
            " 144 145 146 147 148 149 150 151 152 153 154 155 156 157 158 159 160 161\n",
            " 162 163 164 165 166 167 168 169 170 171 172 173 174 175 176 177]\n",
            "검증 데이터 크기 :  36\n",
            "============================\n",
            "iter 횟수 :  2\n",
            "검증 셋트 인덱스 :  [36 37 38 39 40 41 42 43 44 45 46 47 48 49 50 51 52 53 54 55 56 57 58 59\n",
            " 60 61 62 63 64 65 66 67 68 69 70 71]\n",
            "============================\n",
            "============================\n",
            "iter 횟수 :  3\n",
            "교차 검증 정확도 :  0.7778\n",
            "학습 데이터 크기 :  142\n",
            "학습 데이터 인덱스 :  [  0   1   2   3   4   5   6   7   8   9  10  11  12  13  14  15  16  17\n",
            "  18  19  20  21  22  23  24  25  26  27  28  29  30  31  32  33  34  35\n",
            "  36  37  38  39  40  41  42  43  44  45  46  47  48  49  50  51  52  53\n",
            "  54  55  56  57  58  59  60  61  62  63  64  65  66  67  68  69  70  71\n",
            " 108 109 110 111 112 113 114 115 116 117 118 119 120 121 122 123 124 125\n",
            " 126 127 128 129 130 131 132 133 134 135 136 137 138 139 140 141 142 143\n",
            " 144 145 146 147 148 149 150 151 152 153 154 155 156 157 158 159 160 161\n",
            " 162 163 164 165 166 167 168 169 170 171 172 173 174 175 176 177]\n",
            "검증 데이터 크기 :  36\n",
            "============================\n",
            "iter 횟수 :  3\n",
            "검증 셋트 인덱스 :  [ 72  73  74  75  76  77  78  79  80  81  82  83  84  85  86  87  88  89\n",
            "  90  91  92  93  94  95  96  97  98  99 100 101 102 103 104 105 106 107]\n",
            "============================\n",
            "============================\n",
            "iter 횟수 :  4\n",
            "교차 검증 정확도 :  0.7429\n",
            "학습 데이터 크기 :  143\n",
            "학습 데이터 인덱스 :  [  0   1   2   3   4   5   6   7   8   9  10  11  12  13  14  15  16  17\n",
            "  18  19  20  21  22  23  24  25  26  27  28  29  30  31  32  33  34  35\n",
            "  36  37  38  39  40  41  42  43  44  45  46  47  48  49  50  51  52  53\n",
            "  54  55  56  57  58  59  60  61  62  63  64  65  66  67  68  69  70  71\n",
            "  72  73  74  75  76  77  78  79  80  81  82  83  84  85  86  87  88  89\n",
            "  90  91  92  93  94  95  96  97  98  99 100 101 102 103 104 105 106 107\n",
            " 143 144 145 146 147 148 149 150 151 152 153 154 155 156 157 158 159 160\n",
            " 161 162 163 164 165 166 167 168 169 170 171 172 173 174 175 176 177]\n",
            "검증 데이터 크기 :  35\n",
            "============================\n",
            "iter 횟수 :  4\n",
            "검증 셋트 인덱스 :  [108 109 110 111 112 113 114 115 116 117 118 119 120 121 122 123 124 125\n",
            " 126 127 128 129 130 131 132 133 134 135 136 137 138 139 140 141 142]\n",
            "============================\n",
            "============================\n",
            "iter 횟수 :  5\n",
            "교차 검증 정확도 :  0.9429\n",
            "학습 데이터 크기 :  143\n",
            "학습 데이터 인덱스 :  [  0   1   2   3   4   5   6   7   8   9  10  11  12  13  14  15  16  17\n",
            "  18  19  20  21  22  23  24  25  26  27  28  29  30  31  32  33  34  35\n",
            "  36  37  38  39  40  41  42  43  44  45  46  47  48  49  50  51  52  53\n",
            "  54  55  56  57  58  59  60  61  62  63  64  65  66  67  68  69  70  71\n",
            "  72  73  74  75  76  77  78  79  80  81  82  83  84  85  86  87  88  89\n",
            "  90  91  92  93  94  95  96  97  98  99 100 101 102 103 104 105 106 107\n",
            " 108 109 110 111 112 113 114 115 116 117 118 119 120 121 122 123 124 125\n",
            " 126 127 128 129 130 131 132 133 134 135 136 137 138 139 140 141 142]\n",
            "검증 데이터 크기 :  35\n",
            "============================\n",
            "iter 횟수 :  5\n",
            "검증 셋트 인덱스 :  [143 144 145 146 147 148 149 150 151 152 153 154 155 156 157 158 159 160\n",
            " 161 162 163 164 165 166 167 168 169 170 171 172 173 174 175 176 177]\n",
            "============================\n",
            "============================\n",
            "평균 검증 정확도 0.8179533333333334\n"
          ],
          "name": "stdout"
        }
      ]
    },
    {
      "cell_type": "code",
      "metadata": {
        "id": "PMNmhgRmzhXD"
      },
      "source": [
        "# Stratified k fold"
      ],
      "execution_count": null,
      "outputs": []
    },
    {
      "cell_type": "code",
      "metadata": {
        "colab": {
          "base_uri": "https://localhost:8080/",
          "height": 439
        },
        "id": "VpvTF7FA1ljz",
        "outputId": "5bc7b92d-d5d9-4cf0-ec2c-d40cc14ef49a"
      },
      "source": [
        "wine_df = pd.DataFrame(wine_features, columns=wine.feature_names)\n",
        "wine_df['label'] = wine.target\n",
        "wine_df"
      ],
      "execution_count": 20,
      "outputs": [
        {
          "output_type": "execute_result",
          "data": {
            "text/html": [
              "<div>\n",
              "<style scoped>\n",
              "    .dataframe tbody tr th:only-of-type {\n",
              "        vertical-align: middle;\n",
              "    }\n",
              "\n",
              "    .dataframe tbody tr th {\n",
              "        vertical-align: top;\n",
              "    }\n",
              "\n",
              "    .dataframe thead th {\n",
              "        text-align: right;\n",
              "    }\n",
              "</style>\n",
              "<table border=\"1\" class=\"dataframe\">\n",
              "  <thead>\n",
              "    <tr style=\"text-align: right;\">\n",
              "      <th></th>\n",
              "      <th>alcohol</th>\n",
              "      <th>malic_acid</th>\n",
              "      <th>ash</th>\n",
              "      <th>alcalinity_of_ash</th>\n",
              "      <th>magnesium</th>\n",
              "      <th>total_phenols</th>\n",
              "      <th>flavanoids</th>\n",
              "      <th>nonflavanoid_phenols</th>\n",
              "      <th>proanthocyanins</th>\n",
              "      <th>color_intensity</th>\n",
              "      <th>hue</th>\n",
              "      <th>od280/od315_of_diluted_wines</th>\n",
              "      <th>proline</th>\n",
              "      <th>label</th>\n",
              "    </tr>\n",
              "  </thead>\n",
              "  <tbody>\n",
              "    <tr>\n",
              "      <th>0</th>\n",
              "      <td>14.23</td>\n",
              "      <td>1.71</td>\n",
              "      <td>2.43</td>\n",
              "      <td>15.6</td>\n",
              "      <td>127.0</td>\n",
              "      <td>2.80</td>\n",
              "      <td>3.06</td>\n",
              "      <td>0.28</td>\n",
              "      <td>2.29</td>\n",
              "      <td>5.64</td>\n",
              "      <td>1.04</td>\n",
              "      <td>3.92</td>\n",
              "      <td>1065.0</td>\n",
              "      <td>0</td>\n",
              "    </tr>\n",
              "    <tr>\n",
              "      <th>1</th>\n",
              "      <td>13.20</td>\n",
              "      <td>1.78</td>\n",
              "      <td>2.14</td>\n",
              "      <td>11.2</td>\n",
              "      <td>100.0</td>\n",
              "      <td>2.65</td>\n",
              "      <td>2.76</td>\n",
              "      <td>0.26</td>\n",
              "      <td>1.28</td>\n",
              "      <td>4.38</td>\n",
              "      <td>1.05</td>\n",
              "      <td>3.40</td>\n",
              "      <td>1050.0</td>\n",
              "      <td>0</td>\n",
              "    </tr>\n",
              "    <tr>\n",
              "      <th>2</th>\n",
              "      <td>13.16</td>\n",
              "      <td>2.36</td>\n",
              "      <td>2.67</td>\n",
              "      <td>18.6</td>\n",
              "      <td>101.0</td>\n",
              "      <td>2.80</td>\n",
              "      <td>3.24</td>\n",
              "      <td>0.30</td>\n",
              "      <td>2.81</td>\n",
              "      <td>5.68</td>\n",
              "      <td>1.03</td>\n",
              "      <td>3.17</td>\n",
              "      <td>1185.0</td>\n",
              "      <td>0</td>\n",
              "    </tr>\n",
              "    <tr>\n",
              "      <th>3</th>\n",
              "      <td>14.37</td>\n",
              "      <td>1.95</td>\n",
              "      <td>2.50</td>\n",
              "      <td>16.8</td>\n",
              "      <td>113.0</td>\n",
              "      <td>3.85</td>\n",
              "      <td>3.49</td>\n",
              "      <td>0.24</td>\n",
              "      <td>2.18</td>\n",
              "      <td>7.80</td>\n",
              "      <td>0.86</td>\n",
              "      <td>3.45</td>\n",
              "      <td>1480.0</td>\n",
              "      <td>0</td>\n",
              "    </tr>\n",
              "    <tr>\n",
              "      <th>4</th>\n",
              "      <td>13.24</td>\n",
              "      <td>2.59</td>\n",
              "      <td>2.87</td>\n",
              "      <td>21.0</td>\n",
              "      <td>118.0</td>\n",
              "      <td>2.80</td>\n",
              "      <td>2.69</td>\n",
              "      <td>0.39</td>\n",
              "      <td>1.82</td>\n",
              "      <td>4.32</td>\n",
              "      <td>1.04</td>\n",
              "      <td>2.93</td>\n",
              "      <td>735.0</td>\n",
              "      <td>0</td>\n",
              "    </tr>\n",
              "    <tr>\n",
              "      <th>...</th>\n",
              "      <td>...</td>\n",
              "      <td>...</td>\n",
              "      <td>...</td>\n",
              "      <td>...</td>\n",
              "      <td>...</td>\n",
              "      <td>...</td>\n",
              "      <td>...</td>\n",
              "      <td>...</td>\n",
              "      <td>...</td>\n",
              "      <td>...</td>\n",
              "      <td>...</td>\n",
              "      <td>...</td>\n",
              "      <td>...</td>\n",
              "      <td>...</td>\n",
              "    </tr>\n",
              "    <tr>\n",
              "      <th>173</th>\n",
              "      <td>13.71</td>\n",
              "      <td>5.65</td>\n",
              "      <td>2.45</td>\n",
              "      <td>20.5</td>\n",
              "      <td>95.0</td>\n",
              "      <td>1.68</td>\n",
              "      <td>0.61</td>\n",
              "      <td>0.52</td>\n",
              "      <td>1.06</td>\n",
              "      <td>7.70</td>\n",
              "      <td>0.64</td>\n",
              "      <td>1.74</td>\n",
              "      <td>740.0</td>\n",
              "      <td>2</td>\n",
              "    </tr>\n",
              "    <tr>\n",
              "      <th>174</th>\n",
              "      <td>13.40</td>\n",
              "      <td>3.91</td>\n",
              "      <td>2.48</td>\n",
              "      <td>23.0</td>\n",
              "      <td>102.0</td>\n",
              "      <td>1.80</td>\n",
              "      <td>0.75</td>\n",
              "      <td>0.43</td>\n",
              "      <td>1.41</td>\n",
              "      <td>7.30</td>\n",
              "      <td>0.70</td>\n",
              "      <td>1.56</td>\n",
              "      <td>750.0</td>\n",
              "      <td>2</td>\n",
              "    </tr>\n",
              "    <tr>\n",
              "      <th>175</th>\n",
              "      <td>13.27</td>\n",
              "      <td>4.28</td>\n",
              "      <td>2.26</td>\n",
              "      <td>20.0</td>\n",
              "      <td>120.0</td>\n",
              "      <td>1.59</td>\n",
              "      <td>0.69</td>\n",
              "      <td>0.43</td>\n",
              "      <td>1.35</td>\n",
              "      <td>10.20</td>\n",
              "      <td>0.59</td>\n",
              "      <td>1.56</td>\n",
              "      <td>835.0</td>\n",
              "      <td>2</td>\n",
              "    </tr>\n",
              "    <tr>\n",
              "      <th>176</th>\n",
              "      <td>13.17</td>\n",
              "      <td>2.59</td>\n",
              "      <td>2.37</td>\n",
              "      <td>20.0</td>\n",
              "      <td>120.0</td>\n",
              "      <td>1.65</td>\n",
              "      <td>0.68</td>\n",
              "      <td>0.53</td>\n",
              "      <td>1.46</td>\n",
              "      <td>9.30</td>\n",
              "      <td>0.60</td>\n",
              "      <td>1.62</td>\n",
              "      <td>840.0</td>\n",
              "      <td>2</td>\n",
              "    </tr>\n",
              "    <tr>\n",
              "      <th>177</th>\n",
              "      <td>14.13</td>\n",
              "      <td>4.10</td>\n",
              "      <td>2.74</td>\n",
              "      <td>24.5</td>\n",
              "      <td>96.0</td>\n",
              "      <td>2.05</td>\n",
              "      <td>0.76</td>\n",
              "      <td>0.56</td>\n",
              "      <td>1.35</td>\n",
              "      <td>9.20</td>\n",
              "      <td>0.61</td>\n",
              "      <td>1.60</td>\n",
              "      <td>560.0</td>\n",
              "      <td>2</td>\n",
              "    </tr>\n",
              "  </tbody>\n",
              "</table>\n",
              "<p>178 rows × 14 columns</p>\n",
              "</div>"
            ],
            "text/plain": [
              "     alcohol  malic_acid   ash  ...  od280/od315_of_diluted_wines  proline  label\n",
              "0      14.23        1.71  2.43  ...                          3.92   1065.0      0\n",
              "1      13.20        1.78  2.14  ...                          3.40   1050.0      0\n",
              "2      13.16        2.36  2.67  ...                          3.17   1185.0      0\n",
              "3      14.37        1.95  2.50  ...                          3.45   1480.0      0\n",
              "4      13.24        2.59  2.87  ...                          2.93    735.0      0\n",
              "..       ...         ...   ...  ...                           ...      ...    ...\n",
              "173    13.71        5.65  2.45  ...                          1.74    740.0      2\n",
              "174    13.40        3.91  2.48  ...                          1.56    750.0      2\n",
              "175    13.27        4.28  2.26  ...                          1.56    835.0      2\n",
              "176    13.17        2.59  2.37  ...                          1.62    840.0      2\n",
              "177    14.13        4.10  2.74  ...                          1.60    560.0      2\n",
              "\n",
              "[178 rows x 14 columns]"
            ]
          },
          "metadata": {
            "tags": []
          },
          "execution_count": 20
        }
      ]
    },
    {
      "cell_type": "code",
      "metadata": {
        "colab": {
          "base_uri": "https://localhost:8080/"
        },
        "id": "u3_DFp0n2AEt",
        "outputId": "0ac2b625-de93-4eba-da46-7ce4870199fc"
      },
      "source": [
        "wine_df['label'].value_counts()"
      ],
      "execution_count": 21,
      "outputs": [
        {
          "output_type": "execute_result",
          "data": {
            "text/plain": [
              "1    71\n",
              "0    59\n",
              "2    48\n",
              "Name: label, dtype: int64"
            ]
          },
          "metadata": {
            "tags": []
          },
          "execution_count": 21
        }
      ]
    },
    {
      "cell_type": "code",
      "metadata": {
        "colab": {
          "base_uri": "https://localhost:8080/"
        },
        "id": "0qdy0hw_2eY4",
        "outputId": "7d9cd48b-a540-4322-f456-85b9bba37574"
      },
      "source": [
        "# 각 검증시마다 생성되는 학습데이터, 검증데이터 값의 분포도를 확인해본다.\n",
        "kfold = KFold(n_splits=3)\n",
        "iter_num = 0\n",
        "for train_index, test_index in kfold.split(wine_df):\n",
        "    iter_num += 1\n",
        "    label_train = wine_df['label'].iloc[train_index]\n",
        "    label_test = wine_df['label'].iloc[test_index]\n",
        "    print('교차 검증  : ', iter_num)\n",
        "    print('학습 레이블 데이터 분포 : \\n', label_train.value_counts())\n",
        "    print('검증 레이블 데이터 분포 : \\n', label_test.value_counts())"
      ],
      "execution_count": 25,
      "outputs": [
        {
          "output_type": "stream",
          "text": [
            "교차 검증  :  1\n",
            "학습 레이블 데이터 분포 : \n",
            " 1    70\n",
            "2    48\n",
            "Name: label, dtype: int64\n",
            "검증 레이블 데이터 분포 : \n",
            " 0    59\n",
            "1     1\n",
            "Name: label, dtype: int64\n",
            "교차 검증  :  2\n",
            "학습 레이블 데이터 분포 : \n",
            " 0    59\n",
            "2    48\n",
            "1    12\n",
            "Name: label, dtype: int64\n",
            "검증 레이블 데이터 분포 : \n",
            " 1    59\n",
            "Name: label, dtype: int64\n",
            "교차 검증  :  3\n",
            "학습 레이블 데이터 분포 : \n",
            " 1    60\n",
            "0    59\n",
            "Name: label, dtype: int64\n",
            "검증 레이블 데이터 분포 : \n",
            " 2    48\n",
            "1    11\n",
            "Name: label, dtype: int64\n"
          ],
          "name": "stdout"
        }
      ]
    },
    {
      "cell_type": "code",
      "metadata": {
        "colab": {
          "base_uri": "https://localhost:8080/"
        },
        "id": "Hi762Ost3_eC",
        "outputId": "d0f0ddce-0d53-4676-adc0-1d6b16fd7843"
      },
      "source": [
        "# StratifiedKFold를 통해 레이블의 분포도를 반영해보자.\n",
        "from sklearn.model_selection import StratifiedKFold\n",
        "\n",
        "skf = StratifiedKFold(n_splits=3)\n",
        "iter_num = 0\n",
        "\n",
        "for train_index, test_index in skf.split(wine_df, wine_df['label']):\n",
        "    iter_num += 1\n",
        "    label_train = wine_df['label'].iloc[train_index]\n",
        "    label_test = wine_df['label'].iloc[test_index]\n",
        "    print('교차 검증  : ', iter_num)\n",
        "    print('학습 레이블 데이터 분포 : \\n', label_train.value_counts())\n",
        "    print('검증 레이블 데이터 분포 : \\n', label_test.value_counts())"
      ],
      "execution_count": 27,
      "outputs": [
        {
          "output_type": "stream",
          "text": [
            "교차 검증  :  1\n",
            "학습 레이블 데이터 분포 : \n",
            " 1    47\n",
            "0    39\n",
            "2    32\n",
            "Name: label, dtype: int64\n",
            "검증 레이블 데이터 분포 : \n",
            " 1    24\n",
            "0    20\n",
            "2    16\n",
            "Name: label, dtype: int64\n",
            "교차 검증  :  2\n",
            "학습 레이블 데이터 분포 : \n",
            " 1    48\n",
            "0    39\n",
            "2    32\n",
            "Name: label, dtype: int64\n",
            "검증 레이블 데이터 분포 : \n",
            " 1    23\n",
            "0    20\n",
            "2    16\n",
            "Name: label, dtype: int64\n",
            "교차 검증  :  3\n",
            "학습 레이블 데이터 분포 : \n",
            " 1    47\n",
            "0    40\n",
            "2    32\n",
            "Name: label, dtype: int64\n",
            "검증 레이블 데이터 분포 : \n",
            " 1    24\n",
            "0    19\n",
            "2    16\n",
            "Name: label, dtype: int64\n"
          ],
          "name": "stdout"
        }
      ]
    }
  ]
}